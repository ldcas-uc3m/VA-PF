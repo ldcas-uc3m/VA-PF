{
 "cells": [
  {
   "cell_type": "code",
   "execution_count": 1,
   "metadata": {},
   "outputs": [],
   "source": [
    "%matplotlib inline"
   ]
  },
  {
   "cell_type": "markdown",
   "metadata": {},
   "source": [
    "# Práctica 2. Detección de objetos con Faster-RCNN."
   ]
  },
  {
   "cell_type": "markdown",
   "metadata": {},
   "source": [
    "## Objetivo \n",
    "\n",
    "El propósito de este laboratorio es que el alumno se familiarice con una red neuronal convolucional de proposición de regiones (RCNN) para la detección automática de clases de objetos, en la que sobre una imagen se localizan espacialmente una serie de objetos, y se clasifican dichos objetos de acuerdo a unas clases predefinidas.\n",
    "\n",
    "En concreto, se trabajará sobre la red Faster-RCNN, la primera red que aúna la estrategia de proposición de regiones automática (es decir, a partir de la imagen de entrada se proponen regiones susceptibles de contener objetos) con la clasificación de los mismos. En nuestro caso, esta red se aplicará a algunas de las clases de la base de datos PASCAL VOC para detección de objetos. \n",
    "\n",
    "Este tutorial es una adaptación del tutorial disponible en https://pytorch.org/tutorials/intermediate/torchvision_tutorial.html. "
   ]
  },
  {
   "cell_type": "markdown",
   "metadata": {},
   "source": [
    "## Referencias\n",
    "\n",
    "- [1] Faster-RCNN. https://arxiv.org/abs/1706.05587\n",
    "- [2] PASCAL VOC 2012 dataset. http://host.robots.ox.ac.uk/pascal/VOC/voc2012/index.html\n",
    "- [3] https://github.com/sgrvinod/a-PyTorch-Tutorial-to-Object-Detection\n",
    "- [4] https://tryolabs.com/blog/2018/01/18/faster-r-cnn-down-the-rabbit-hole-of-modern-object-detection/\n",
    "- [5] Fast-RCNN y ROIPooling: https://arxiv.org/abs/1504.08083\n",
    "- [6] https://en.wikipedia.org/wiki/File:RoI_pooling_animated.gif\n",
    "- [7] FPN: https://arxiv.org/abs/1612.03144"
   ]
  },
  {
   "cell_type": "markdown",
   "metadata": {},
   "source": [
    "## Antes de empezar"
   ]
  },
  {
   "cell_type": "markdown",
   "metadata": {},
   "source": [
    "Antes de empezar, asegúrese de que todos los archivos que se proporcionan con la práctica se encuentran en el mismo directorio de este Notebook."
   ]
  },
  {
   "cell_type": "markdown",
   "metadata": {},
   "source": [
    "## Parte 1. Fundamento teórico."
   ]
  },
  {
   "cell_type": "markdown",
   "metadata": {},
   "source": [
    "### Detección de objetos"
   ]
  },
  {
   "cell_type": "markdown",
   "metadata": {},
   "source": [
    "En el caso de la detección de objetos, un objeto se define de acuerdo a una _bounding box_ (una caja que engloba al objeto completo). La *bounding box* se define de acuerdo a su centro, anchura y altura (normalizados al tamaño de la imagen). Para una imagen de ejemplo y el objeto \"gato\":\n",
    "<img src=\"images/notebook/cs.PNG\">\n",
    "Cada uno de estos objetos también llevará asociada una etiqueta de acuerdo a las categorías predeterminadas. Si por ejemplo en nuestro caso, la categoría \"perro\" se define como la clase 1 y la categoría \"gato\" como la clase 2, la etiqueta de este objeto será 2."
   ]
  },
  {
   "cell_type": "markdown",
   "metadata": {},
   "source": [
    "### Faster-RCNN"
   ]
  },
  {
   "cell_type": "markdown",
   "metadata": {},
   "source": [
    "Aunque se recomienda echar un vistazo al artículo sobre Faster-RCNN [1], en esta sección se van a explicar los conceptos más importantes de la red que son necesarios para el desarrollo de la práctica."
   ]
  },
  {
   "cell_type": "markdown",
   "metadata": {},
   "source": [
    "Faster-RCNN es un _framework_ que adapta cualquier red convolucional dedicada a la clasificación (dada una imagen, encontrar una categoría que describa el contenido total de la imagen) a la detección de objetos (en una imagen pueden coexistir objetos distintos). Para ello, a partir de un _backbone_ inicial (las capas destinadas a la extracción de características) de cualquier red de clasificación, propone dos bloques: la red de proposición de regiones y el *RoI pooling* para clasificación. \n",
    "\n",
    "<img src=\"images/notebook/faster.JPEG\">\n",
    "\n",
    "Por tanto, la arquitectura de Faster-RCNN parte de un mapa de características proveniente de las capas convolucionales, típicamente con _stride_ 16: es decir, si el tamaño de la imagen de entrada es H x W, los mapas de características sobre los que trabaja la red de proposición de regiones son de tamaño H/16 x W/16. A partir de este mapa de características se incluyen dos módulos: una sub-red para proposición de regiones que se ejecuta en primer lugar; y un segundo módulo convolucional que a partir de las características y las regiones propuestas clasifica cada una de ellas de acuerdos a unas clases predeterminadas, haciendo uso de la estrategia de *RoI pooling*.\n",
    "\n",
    "#### Red de proposición de regiones\n",
    "\n",
    "El objetivo de este bloque es extraer las regiones de la imagen susceptibles de contener un objeto, es decir, proponer una serie de _bounding boxes_ candidatas. Para ello, en cada localización espacial de estos mapas de características se consideran _k_ _anchors_ invariantes a la traslación (regiones de tamaño y relación de aspecto fijas). Típicamente, _k_=9 (se consideran 3 tamaños distintos: 128, 256 y 512 píxeles; y las relaciones de aspecto 1:1, 1:2 y 2:1).  \n",
    "\n",
    "He aquí un ejemplo visual de la localización espacial del conjunto de _anchors_ invariantes a la traslación sobre una imagen de entrada.\n",
    "\n",
    "<img src=\"images/notebook/anchor_centers.png\">\n",
    "\n",
    "Y el aspecto visual de los _anchors_ sobre la misma, en la localización de la persona, en el centro de la figura, así como sobre toda la imagen (el total de _anchors_ para la imagen).\n",
    "\n",
    "<img src=\"images/notebook/anchors-progress.png\">\n",
    "\n",
    "Ahora bien, del gran número de _anchors_ con los que se cuenta ($k \\cdot H/16 \\cdot W/16$), sólo algunos coinciden con la posición y tamaño real de los objetos en la imagen. Para distinguir estos _anchors_ del total de los mismos se tiene una función de pérdida $L_{objectness}$ que se ocupa de clasificar los _anchors_ que tienen una IoU - _Intersection over Union_ - elevada con algún objeto del _ground truth_ como _anchors_ buenos. Para más detalles, véase [1].\n",
    "\n",
    "Finalmente, los _anchors_ no pueden representar nuestra predicción (son poco precisos a la hora de localizar objetos). Sin embargo, los _anchors_ representan el punto de partida aproximado para ajustar la predicción al objeto que se quiere detectar. Se puede considerar cada _bounding box_ predicha como una ligera desviación frente al _anchor_. \n",
    "\n",
    "Así, Faster-RCNN considera la _bounding box_ predicha como la diferencia entre la _bounding box_ del objeto real y la del _anchor_ seleccionado para dicho objeto. La función de pérdida $L_{reg}$ cuantifica esta pérdida de acuerdo a los parámetros de la _bounding box_ que se han definido anteriormente: centro, anchura y altura, como se muestra en la siguiente imagen. Para más detalles, véase [1].\n",
    "\n",
    "<img src=\"images/notebook/reg.PNG\">\n",
    "\n",
    "Por tanto, la función de pérdida $L_{objectness}$ se ocupa de encontrar el mejor _anchor_ para un objeto dado, mientras que la función $L_{reg}$ adapta ese _anchor_ al tamaño original del objeto.\n",
    "\n",
    "#### _RoI pooling_ y clasificación\n",
    "\n",
    "Hasta ahora, se han definido los objetos de manera agnóstica: no se ha prestado atención a su categoría. Una vez que la red de proposición de regiones es capaz de ofrecer una serie de _bounding boxes_ candidatas, es momento de obtener su categoría. Ahora bien, las regiones que propone la red pueden ser de tamaños muy diferentes, pero para ejecutar una red neuronal para clasificación el tamaño de los mapas de características para todas las imágenes debe ser el mismo. Para transformar la información que proporcionan los mapas de características que propone la red de proposición de regiones -de distinto tamaño- a un tamaño fijo (por ejemplo, 7x7), se utiliza el _RoI pooling_. \n",
    "\n",
    "La capa de _RoI pooling_ transforma las características dentro de cualquier región válida de la imagen de tamaño $H_{bb}$ x $W_{bb}$ en un _grid_ de tamaño fijo $H_{fix}$ x $W_{fix}$. Para ello, se divide la región de tamaño $H_{bb}$ x $W_{bb}$ en $H_{fix}$ x $W_{fix}$ celdas, cada una de ellas con tamaño $H_{bb}/H_{fix}$ x $W_{bb}/W_{fix}$. Tras esto, se aplica un _max pooling_ en cada celda para obtener el valor máximo de la misma, que es el valor que aparecerá en la posición de dicha celda en el _grid_ de salida. La siguiente animación muestra un ejemplo de _RoI pooling_ sobre un mapa de características, con un tamaño de *bounding box* de 5x7,  para un tamaño de salida de 2x2.\n",
    "\n",
    "<img src=\"images/notebook/RoI_pooling_animated.gif\">\n",
    "\n",
    "Una vez se tienen las regiones con un tamaño fijo, la red clasifica las mismas de acuerdo a la categoría de objeto. La función de pérdida multiclase $L_{cls}$ se ocupa de esto. Asimismo, la red refina las _bounding boxes_ para cada clase de objetos (la función de pérdida $L_{reg2}$ se ocupa de esto). Mientras que en el primer caso la regresión era agnóstica (independiente de la clase del objeto), en este caso la regresión tiene en cuenta la categoría de cada objeto.\n",
    "\n",
    "A continuación se muestra un posible resultado de la detección de objetos sobre una imagen de entrada: *bounding box* + predicción de la clase de objeto (con su verosimilitud).\n",
    "\n",
    "<img src=\"images/notebook/result.PNG\">\n"
   ]
  },
  {
   "cell_type": "markdown",
   "metadata": {},
   "source": [
    "### FPN \n",
    "\n",
    "Para las redes de detección de objetos, la detección a diferentes escalas es un reto, en particular para objetos pequeños. La estrategia tradicional para ello es la construcción de una pirámide para la imagen a diferentes escalas (véase la figura de abajo [7]), y la aplicación del mismo procedimiento de detección para las diferentes escalas. Sin embargo, en el caso de redes neuronales el procesamiento de diferentes versiones de la misma imagen exige memoria y tiempo. Sin embargo, este procesamiento multiescala se puede aplicar a las características de alto nivel de alguna capa de la red (ya procesadas), lo que es más eficiente (además su dimensión espacial es menor).\n",
    "\n",
    "<img src=\"images/notebook/pyramid.jpeg\">\n",
    "\n",
    "Hay que tener en cuenta que los mapas de características cercanos a la entrada no son útiles para la detección de objetos, ya que están compuesto de estructuras a bajo nivel (bordes) de la imagen. Por ello, frecuentemente, de manera previa a la proposición de regiones (RPN) se aplica una *Feature Pyramid Network* (FPN), un extractor de características que genera mapas de características de diferente tamaño (multiescala) con información diferente para cada escala, como se muestra en la figura posterior [7].\n",
    "\n",
    "<img src=\"images/notebook/fpn.png\">\n",
    "\n",
    "Sobre cada uno de estos mapas de características, la RPN propone los *anchors*. En concreto, en función de la resolución espacial de cada mapa de características la RPN utiliza distintos *anchors* invariantes a la traslación: la RPN propone los *anchors* invariantes a la traslación de tamaño más pequeño sobre el mapa de características de mayor resolución y los *anchors* invariantes a la traslación más grandes sobre las localizaciones de los mapas de menor resolución. Esto tiene sentido desde el punto de vista lógico: sobre los mapas con mayor información de bajo nivel se colocan los *anchors* pequeños para buscar objetos de pequeño tamaño, y sobre los mapas con información a alto nivel se colocan los *anchors* de mayor tamaño, que buscan objetos que suponen un gran porcentaje del área de la imagen.\n",
    "\n",
    "Para más información, véase [7]."
   ]
  },
  {
   "cell_type": "markdown",
   "metadata": {},
   "source": [
    "### Medidas de evaluación"
   ]
  },
  {
   "cell_type": "markdown",
   "metadata": {},
   "source": [
    "El rendimiento del sistema en detección se analiza en términos de la medida F1. Sin embargo, para definir esta medida hay que definir antes la precisión y el *recall*. Cada una de estas medidas se definen a continuación.\n",
    "\n",
    "La __precisión__, para el caso de detección de objetos, representa el porcentaje de objetos correctamente detectados del total de objetos detectados (correctos e incorrectos). Se calcula como:\n",
    "\n",
    "\\begin{equation}\n",
    "P=\\frac{TP}{TP+FP},\n",
    "\\end{equation}\n",
    "\n",
    "donde $TP$ hace referencia al número de *true positives* (objetos correctamente detectados) y $FP$ al número de *false positives* (objetos incorrectamente detectados).\n",
    "\n",
    "El __*recall*__, por su parte, representa el porcentaje de objetos correctamente detectados del total de objetos presentes en la imágenes. Se calcula como:\n",
    "\n",
    "\\begin{equation}\n",
    "R=\\frac{TP}{TP+FN},\n",
    "\\end{equation}\n",
    "\n",
    "donde $FN$ representa el número de *false negatives* (objetos presentes en las imágenes pero no detectados).\n",
    "\n",
    "Ahora bien, la red proporciona una serie de *bounding boxes* sobre la imagen que pueden coincidir en mayor o menor medida con el *ground truth*. Hay que establecer un __criterio para considerar una predicción como correcta__. Este se suele establecer en la calidad de segmentación, mediante la medida *Intersection over Union*, __IoU__, también denominada *Jaccard Index* (JI). La medida $IoU$ mide la similitud entre dos regiones $A$ y $B$ como:\n",
    "\n",
    "\\begin{equation}\n",
    "IoU=\\frac{A \\cap B}{A \\cup B}\n",
    "\\end{equation}\n",
    "\n",
    "siendo $\\cap$ la intersección entre las regiones (area común) y $\\cup$ la unión o área total que cubren entre ambas. Se considera un umbral mínimo de $IoU_{th}=0.5$ o $IoU_{th}=0.7$ para considerar una detección como correcta. A continuación se puede ver un ejemplo de la medida $IoU$ sobre *bounding boxes*, como se utilizará en nuestra arquitectura de detección de objetos.\n",
    "\n",
    "<img src=\"images/notebook/iou.png\" width=\"500 pix\">\n",
    "\n",
    "\n",
    "De igual modo, la medida $IoU$ se puede utilizar para establecer la calidad en la segmentación de instancias de objetos.\n",
    "\n",
    "Finalmente, una vez que se han descrito estas medidas se pueden definir la medida F1. El F1-*score* considera tanto la precisión como el *recall* para obtener una media armónica ponderada entre los mismos tal que: \n",
    "\n",
    "\\begin{equation}\n",
    "F1=2\\cdot \\frac{P\\cdot R}{P+R},\n",
    "\\end{equation}\n",
    "\n",
    "De este modo, esta medida resume en una sola cifra el rendimiento de nuestro detector de objetos para un __punto de operación__ dado. La red proporciona una serie de *bounding boxes* con un __*score*__ asociado, que nos indica cómo de probable es que en dicha región exista un objeto de cierta clase. Ahora bien, la precisión, el *recall* y la medida F1 no tienen en cuenta este *score* para el cálculo, y estas medidas dependerán del __punto de operación__ que se elija para el sistema: frecuentemente, se descartan aquellas regiones con un *score* bajo ($<0.5$). Esto se analizará a lo largo de la práctica. "
   ]
  },
  {
   "cell_type": "markdown",
   "metadata": {},
   "source": [
    "### Base de datos"
   ]
  },
  {
   "cell_type": "markdown",
   "metadata": {},
   "source": [
    "La base de datos sobre la que se trabajará en la práctica es un subconjunto de la base de datos PASCAL VOC 2012 [2]. Esta base de datos contiene imágenes con diversos objetos pertenecientes a 20 categorías:\n",
    "- __Person__: _person_\n",
    "- __Animal__: _bird, cat, cow, dog, horse, sheep_\n",
    "- __Vehicle__: _aeroplane, bicycle, boat, bus, car, motorbike, train_\n",
    "- __Indoor__: _bottle, chair, dining table, potted plant, sofa, tv/monitor_\n",
    "\n",
    "Durante esta práctica se va a trabajar sobre el conjunto __Indoor__. En concreto, se detectarán objetos de las clases: _bottle, chair_ y _dining table_. Las imágenes se proporcionan en sendas carpetas para entrenamiento y test. Los conjuntos se distribuyen de la siguiente manera:\n",
    "- Entrenamiento: 234 imágenes, en las cuales existen 90 objetos de la clase *bottle*, 125 de la clase *chair*, 36 de la clase *dining table* y 40 de la clase *sofa*.\n",
    "- Test: 68 imágenes, en las cuales existen 36 objetos de la clase *bottle*, 52 de la clase *chair* y 15 de la clase *dining table* y 27 de la clase *sofa*."
   ]
  },
  {
   "cell_type": "markdown",
   "metadata": {},
   "source": [
    "## Parte 2. Implementación."
   ]
  },
  {
   "cell_type": "markdown",
   "metadata": {},
   "source": [
    "En primer lugar, se importan las librerías necesarias."
   ]
  },
  {
   "cell_type": "code",
   "execution_count": 2,
   "metadata": {},
   "outputs": [
    {
     "name": "stdout",
     "output_type": "stream",
     "text": [
      "Random Seed:  999\n"
     ]
    }
   ],
   "source": [
    "import os\n",
    "import numpy as np\n",
    "import torch\n",
    "import torch.utils.data\n",
    "from PIL import Image, ImageFile, ImageDraw\n",
    "import cv2\n",
    "import random\n",
    "# Set random seed for reproducibility\n",
    "manualSeed = 999\n",
    "print(\"Random Seed: \", manualSeed)\n",
    "random.seed(manualSeed)\n",
    "torch.manual_seed(manualSeed)\n",
    "# torch uses some non-deterministic algorithms\n",
    "torch.backends.cudnn.enabled = False\n",
    "\n",
    "from data_augmentation import data_augmentation_pipeline"
   ]
  },
  {
   "cell_type": "markdown",
   "metadata": {},
   "source": [
    "### Entradas\n",
    "\n",
    "Se definen algunas entradas para la ejecución:\n",
    "\n",
    "-  **data_dir** - el directorio raíz de la base de datos, que se describe posteriormente.\n",
    "-  **num_workers** - el número de hebras para cargar los datos con la clase DataLoader.\n",
    "-  **batch_size** - el tamaño de _batch_.\n",
    "-  **num_classes** - el número de clases que detectar.\n",
    "-  **class_names** - los nombres de las clases que detectar.\n",
    "-  **num_epochs** - número de _epochs_ para el entrenamiento de la red.\n",
    "-  **step_size** - número de *epochs* tras los cuales se reduce el *learning rate* en un factor 0.1.\n",
    "-  **lr** - *learning rate* inicial.\n",
    "-  **device** - el dispositivo (GPU o CPU) para la ejecución."
   ]
  },
  {
   "cell_type": "code",
   "execution_count": 3,
   "metadata": {},
   "outputs": [
    {
     "name": "stdout",
     "output_type": "stream",
     "text": [
      "cuda:0\n"
     ]
    }
   ],
   "source": [
    "data_dir = \"myVOC4\"\n",
    "num_workers=8         # to debug, fix num_workers=0\n",
    "batch_size = 1        # Training and test (if we use 1 we don't need to resize the images)\n",
    "num_classes=5         # Number of classes\n",
    "class_names=['background','bottle','chair','dining_table','sofa']\n",
    "num_epochs = 2\n",
    "step_size=num_epochs/3\n",
    "lr=0.001\n",
    "# Detect if we have a GPU available\n",
    "device = torch.device(\"cuda:0\" if torch.cuda.is_available() else \"cpu\")\n",
    "print(device)"
   ]
  },
  {
   "cell_type": "markdown",
   "metadata": {},
   "source": [
    "### Librería modificada \n",
    "\n",
    "Para esta práctica se va a utilizar una versión modificada de la librería torchvision, que denominaremos torchvision_05. Esta versión modificada permite entrenar nuestra red de detección con imágenes que no contengan ningún objeto, mientras que la versión original no lo permite. Asimismo, nos proporciona la información de los _anchors_ seleccionados para cada objeto durante la inferencia. Importamos los módulos necesarios."
   ]
  },
  {
   "cell_type": "code",
   "execution_count": 4,
   "metadata": {},
   "outputs": [],
   "source": [
    "import torchvision_05\n",
    "from torchvision_05.models.detection.rpn import AnchorGenerator\n",
    "from torchvision_05.models.detection.faster_rcnn import FastRCNNPredictor, FasterRCNN\n",
    "from torchvision_05.models.detection.backbone_utils import resnet_fpn_backbone\n",
    "import torchvision.transforms.functional as F"
   ]
  },
  {
   "cell_type": "markdown",
   "metadata": {},
   "source": [
    "### Red\n",
    "\n",
    "La red a utilizar será una versión de Faster-RCNN sobre ResNet-50. En concreto, se utilizan los 4 primeros bloques de esta red, compuestos de capas convolucionales, normalización de batch (cuyos parámetros se congelan) y capas no lineales. A esto se añade una FPN, _Feature Pyramid Network,_ que extrae características de los mapas resultantes de la red a distintas escalas. Tras este *backbone*, se colocan los módulos propios de Faster-RCNN: la red de proposición de regiones y el _RoI pooling_ y la clasificación.\n",
    "\n",
    "A continuación se incluye la función que construye la red."
   ]
  },
  {
   "cell_type": "code",
   "execution_count": 5,
   "metadata": {},
   "outputs": [],
   "source": [
    "def get_model_detection(num_classes):\n",
    "    # load a Faster RCNN model pre-trained on COCO\n",
    "    model = torchvision_05.models.detection.fasterrcnn_resnet50_fpn(pretrained=True)\n",
    " \n",
    "    # get number of input features for the classifier\n",
    "    in_features = model.roi_heads.box_predictor.cls_score.in_features\n",
    "    # replace the pre-trained head with a new one\n",
    "    model.roi_heads.box_predictor = FastRCNNPredictor(in_features, num_classes) \n",
    "        \n",
    "    return model"
   ]
  },
  {
   "cell_type": "markdown",
   "metadata": {},
   "source": [
    "Cargamos el modelo. Familiarícese con las distintas capas. "
   ]
  },
  {
   "cell_type": "code",
   "execution_count": 6,
   "metadata": {},
   "outputs": [
    {
     "name": "stdout",
     "output_type": "stream",
     "text": [
      "FasterRCNN(\n",
      "  (transform): GeneralizedRCNNTransform()\n",
      "  (backbone): BackboneWithFPN(\n",
      "    (body): IntermediateLayerGetter(\n",
      "      (conv1): Conv2d(3, 64, kernel_size=(7, 7), stride=(2, 2), padding=(3, 3), bias=False)\n",
      "      (bn1): FrozenBatchNorm2d(64, eps=1e-05)\n",
      "      (relu): ReLU(inplace=True)\n",
      "      (maxpool): MaxPool2d(kernel_size=3, stride=2, padding=1, dilation=1, ceil_mode=False)\n",
      "      (layer1): Sequential(\n",
      "        (0): Bottleneck(\n",
      "          (conv1): Conv2d(64, 64, kernel_size=(1, 1), stride=(1, 1), bias=False)\n",
      "          (bn1): FrozenBatchNorm2d(64, eps=1e-05)\n",
      "          (conv2): Conv2d(64, 64, kernel_size=(3, 3), stride=(1, 1), padding=(1, 1), bias=False)\n",
      "          (bn2): FrozenBatchNorm2d(64, eps=1e-05)\n",
      "          (conv3): Conv2d(64, 256, kernel_size=(1, 1), stride=(1, 1), bias=False)\n",
      "          (bn3): FrozenBatchNorm2d(256, eps=1e-05)\n",
      "          (relu): ReLU(inplace=True)\n",
      "          (downsample): Sequential(\n",
      "            (0): Conv2d(64, 256, kernel_size=(1, 1), stride=(1, 1), bias=False)\n",
      "            (1): FrozenBatchNorm2d(256, eps=1e-05)\n",
      "          )\n",
      "        )\n",
      "        (1): Bottleneck(\n",
      "          (conv1): Conv2d(256, 64, kernel_size=(1, 1), stride=(1, 1), bias=False)\n",
      "          (bn1): FrozenBatchNorm2d(64, eps=1e-05)\n",
      "          (conv2): Conv2d(64, 64, kernel_size=(3, 3), stride=(1, 1), padding=(1, 1), bias=False)\n",
      "          (bn2): FrozenBatchNorm2d(64, eps=1e-05)\n",
      "          (conv3): Conv2d(64, 256, kernel_size=(1, 1), stride=(1, 1), bias=False)\n",
      "          (bn3): FrozenBatchNorm2d(256, eps=1e-05)\n",
      "          (relu): ReLU(inplace=True)\n",
      "        )\n",
      "        (2): Bottleneck(\n",
      "          (conv1): Conv2d(256, 64, kernel_size=(1, 1), stride=(1, 1), bias=False)\n",
      "          (bn1): FrozenBatchNorm2d(64, eps=1e-05)\n",
      "          (conv2): Conv2d(64, 64, kernel_size=(3, 3), stride=(1, 1), padding=(1, 1), bias=False)\n",
      "          (bn2): FrozenBatchNorm2d(64, eps=1e-05)\n",
      "          (conv3): Conv2d(64, 256, kernel_size=(1, 1), stride=(1, 1), bias=False)\n",
      "          (bn3): FrozenBatchNorm2d(256, eps=1e-05)\n",
      "          (relu): ReLU(inplace=True)\n",
      "        )\n",
      "      )\n",
      "      (layer2): Sequential(\n",
      "        (0): Bottleneck(\n",
      "          (conv1): Conv2d(256, 128, kernel_size=(1, 1), stride=(1, 1), bias=False)\n",
      "          (bn1): FrozenBatchNorm2d(128, eps=1e-05)\n",
      "          (conv2): Conv2d(128, 128, kernel_size=(3, 3), stride=(2, 2), padding=(1, 1), bias=False)\n",
      "          (bn2): FrozenBatchNorm2d(128, eps=1e-05)\n",
      "          (conv3): Conv2d(128, 512, kernel_size=(1, 1), stride=(1, 1), bias=False)\n",
      "          (bn3): FrozenBatchNorm2d(512, eps=1e-05)\n",
      "          (relu): ReLU(inplace=True)\n",
      "          (downsample): Sequential(\n",
      "            (0): Conv2d(256, 512, kernel_size=(1, 1), stride=(2, 2), bias=False)\n",
      "            (1): FrozenBatchNorm2d(512, eps=1e-05)\n",
      "          )\n",
      "        )\n",
      "        (1): Bottleneck(\n",
      "          (conv1): Conv2d(512, 128, kernel_size=(1, 1), stride=(1, 1), bias=False)\n",
      "          (bn1): FrozenBatchNorm2d(128, eps=1e-05)\n",
      "          (conv2): Conv2d(128, 128, kernel_size=(3, 3), stride=(1, 1), padding=(1, 1), bias=False)\n",
      "          (bn2): FrozenBatchNorm2d(128, eps=1e-05)\n",
      "          (conv3): Conv2d(128, 512, kernel_size=(1, 1), stride=(1, 1), bias=False)\n",
      "          (bn3): FrozenBatchNorm2d(512, eps=1e-05)\n",
      "          (relu): ReLU(inplace=True)\n",
      "        )\n",
      "        (2): Bottleneck(\n",
      "          (conv1): Conv2d(512, 128, kernel_size=(1, 1), stride=(1, 1), bias=False)\n",
      "          (bn1): FrozenBatchNorm2d(128, eps=1e-05)\n",
      "          (conv2): Conv2d(128, 128, kernel_size=(3, 3), stride=(1, 1), padding=(1, 1), bias=False)\n",
      "          (bn2): FrozenBatchNorm2d(128, eps=1e-05)\n",
      "          (conv3): Conv2d(128, 512, kernel_size=(1, 1), stride=(1, 1), bias=False)\n",
      "          (bn3): FrozenBatchNorm2d(512, eps=1e-05)\n",
      "          (relu): ReLU(inplace=True)\n",
      "        )\n",
      "        (3): Bottleneck(\n",
      "          (conv1): Conv2d(512, 128, kernel_size=(1, 1), stride=(1, 1), bias=False)\n",
      "          (bn1): FrozenBatchNorm2d(128, eps=1e-05)\n",
      "          (conv2): Conv2d(128, 128, kernel_size=(3, 3), stride=(1, 1), padding=(1, 1), bias=False)\n",
      "          (bn2): FrozenBatchNorm2d(128, eps=1e-05)\n",
      "          (conv3): Conv2d(128, 512, kernel_size=(1, 1), stride=(1, 1), bias=False)\n",
      "          (bn3): FrozenBatchNorm2d(512, eps=1e-05)\n",
      "          (relu): ReLU(inplace=True)\n",
      "        )\n",
      "      )\n",
      "      (layer3): Sequential(\n",
      "        (0): Bottleneck(\n",
      "          (conv1): Conv2d(512, 256, kernel_size=(1, 1), stride=(1, 1), bias=False)\n",
      "          (bn1): FrozenBatchNorm2d(256, eps=1e-05)\n",
      "          (conv2): Conv2d(256, 256, kernel_size=(3, 3), stride=(2, 2), padding=(1, 1), bias=False)\n",
      "          (bn2): FrozenBatchNorm2d(256, eps=1e-05)\n",
      "          (conv3): Conv2d(256, 1024, kernel_size=(1, 1), stride=(1, 1), bias=False)\n",
      "          (bn3): FrozenBatchNorm2d(1024, eps=1e-05)\n",
      "          (relu): ReLU(inplace=True)\n",
      "          (downsample): Sequential(\n",
      "            (0): Conv2d(512, 1024, kernel_size=(1, 1), stride=(2, 2), bias=False)\n",
      "            (1): FrozenBatchNorm2d(1024, eps=1e-05)\n",
      "          )\n",
      "        )\n",
      "        (1): Bottleneck(\n",
      "          (conv1): Conv2d(1024, 256, kernel_size=(1, 1), stride=(1, 1), bias=False)\n",
      "          (bn1): FrozenBatchNorm2d(256, eps=1e-05)\n",
      "          (conv2): Conv2d(256, 256, kernel_size=(3, 3), stride=(1, 1), padding=(1, 1), bias=False)\n",
      "          (bn2): FrozenBatchNorm2d(256, eps=1e-05)\n",
      "          (conv3): Conv2d(256, 1024, kernel_size=(1, 1), stride=(1, 1), bias=False)\n",
      "          (bn3): FrozenBatchNorm2d(1024, eps=1e-05)\n",
      "          (relu): ReLU(inplace=True)\n",
      "        )\n",
      "        (2): Bottleneck(\n",
      "          (conv1): Conv2d(1024, 256, kernel_size=(1, 1), stride=(1, 1), bias=False)\n",
      "          (bn1): FrozenBatchNorm2d(256, eps=1e-05)\n",
      "          (conv2): Conv2d(256, 256, kernel_size=(3, 3), stride=(1, 1), padding=(1, 1), bias=False)\n",
      "          (bn2): FrozenBatchNorm2d(256, eps=1e-05)\n",
      "          (conv3): Conv2d(256, 1024, kernel_size=(1, 1), stride=(1, 1), bias=False)\n",
      "          (bn3): FrozenBatchNorm2d(1024, eps=1e-05)\n",
      "          (relu): ReLU(inplace=True)\n",
      "        )\n",
      "        (3): Bottleneck(\n",
      "          (conv1): Conv2d(1024, 256, kernel_size=(1, 1), stride=(1, 1), bias=False)\n",
      "          (bn1): FrozenBatchNorm2d(256, eps=1e-05)\n",
      "          (conv2): Conv2d(256, 256, kernel_size=(3, 3), stride=(1, 1), padding=(1, 1), bias=False)\n",
      "          (bn2): FrozenBatchNorm2d(256, eps=1e-05)\n",
      "          (conv3): Conv2d(256, 1024, kernel_size=(1, 1), stride=(1, 1), bias=False)\n",
      "          (bn3): FrozenBatchNorm2d(1024, eps=1e-05)\n",
      "          (relu): ReLU(inplace=True)\n",
      "        )\n",
      "        (4): Bottleneck(\n",
      "          (conv1): Conv2d(1024, 256, kernel_size=(1, 1), stride=(1, 1), bias=False)\n",
      "          (bn1): FrozenBatchNorm2d(256, eps=1e-05)\n",
      "          (conv2): Conv2d(256, 256, kernel_size=(3, 3), stride=(1, 1), padding=(1, 1), bias=False)\n",
      "          (bn2): FrozenBatchNorm2d(256, eps=1e-05)\n",
      "          (conv3): Conv2d(256, 1024, kernel_size=(1, 1), stride=(1, 1), bias=False)\n",
      "          (bn3): FrozenBatchNorm2d(1024, eps=1e-05)\n",
      "          (relu): ReLU(inplace=True)\n",
      "        )\n",
      "        (5): Bottleneck(\n",
      "          (conv1): Conv2d(1024, 256, kernel_size=(1, 1), stride=(1, 1), bias=False)\n",
      "          (bn1): FrozenBatchNorm2d(256, eps=1e-05)\n",
      "          (conv2): Conv2d(256, 256, kernel_size=(3, 3), stride=(1, 1), padding=(1, 1), bias=False)\n",
      "          (bn2): FrozenBatchNorm2d(256, eps=1e-05)\n",
      "          (conv3): Conv2d(256, 1024, kernel_size=(1, 1), stride=(1, 1), bias=False)\n",
      "          (bn3): FrozenBatchNorm2d(1024, eps=1e-05)\n",
      "          (relu): ReLU(inplace=True)\n",
      "        )\n",
      "      )\n",
      "      (layer4): Sequential(\n",
      "        (0): Bottleneck(\n",
      "          (conv1): Conv2d(1024, 512, kernel_size=(1, 1), stride=(1, 1), bias=False)\n",
      "          (bn1): FrozenBatchNorm2d(512, eps=1e-05)\n",
      "          (conv2): Conv2d(512, 512, kernel_size=(3, 3), stride=(2, 2), padding=(1, 1), bias=False)\n",
      "          (bn2): FrozenBatchNorm2d(512, eps=1e-05)\n",
      "          (conv3): Conv2d(512, 2048, kernel_size=(1, 1), stride=(1, 1), bias=False)\n",
      "          (bn3): FrozenBatchNorm2d(2048, eps=1e-05)\n",
      "          (relu): ReLU(inplace=True)\n",
      "          (downsample): Sequential(\n",
      "            (0): Conv2d(1024, 2048, kernel_size=(1, 1), stride=(2, 2), bias=False)\n",
      "            (1): FrozenBatchNorm2d(2048, eps=1e-05)\n",
      "          )\n",
      "        )\n",
      "        (1): Bottleneck(\n",
      "          (conv1): Conv2d(2048, 512, kernel_size=(1, 1), stride=(1, 1), bias=False)\n",
      "          (bn1): FrozenBatchNorm2d(512, eps=1e-05)\n",
      "          (conv2): Conv2d(512, 512, kernel_size=(3, 3), stride=(1, 1), padding=(1, 1), bias=False)\n",
      "          (bn2): FrozenBatchNorm2d(512, eps=1e-05)\n",
      "          (conv3): Conv2d(512, 2048, kernel_size=(1, 1), stride=(1, 1), bias=False)\n",
      "          (bn3): FrozenBatchNorm2d(2048, eps=1e-05)\n",
      "          (relu): ReLU(inplace=True)\n",
      "        )\n",
      "        (2): Bottleneck(\n",
      "          (conv1): Conv2d(2048, 512, kernel_size=(1, 1), stride=(1, 1), bias=False)\n",
      "          (bn1): FrozenBatchNorm2d(512, eps=1e-05)\n",
      "          (conv2): Conv2d(512, 512, kernel_size=(3, 3), stride=(1, 1), padding=(1, 1), bias=False)\n",
      "          (bn2): FrozenBatchNorm2d(512, eps=1e-05)\n",
      "          (conv3): Conv2d(512, 2048, kernel_size=(1, 1), stride=(1, 1), bias=False)\n",
      "          (bn3): FrozenBatchNorm2d(2048, eps=1e-05)\n",
      "          (relu): ReLU(inplace=True)\n",
      "        )\n",
      "      )\n",
      "    )\n",
      "    (fpn): FeaturePyramidNetwork(\n",
      "      (inner_blocks): ModuleList(\n",
      "        (0): Conv2dNormActivation(\n",
      "          (0): Conv2d(256, 256, kernel_size=(1, 1), stride=(1, 1))\n",
      "        )\n",
      "        (1): Conv2dNormActivation(\n",
      "          (0): Conv2d(512, 256, kernel_size=(1, 1), stride=(1, 1))\n",
      "        )\n",
      "        (2): Conv2dNormActivation(\n",
      "          (0): Conv2d(1024, 256, kernel_size=(1, 1), stride=(1, 1))\n",
      "        )\n",
      "        (3): Conv2dNormActivation(\n",
      "          (0): Conv2d(2048, 256, kernel_size=(1, 1), stride=(1, 1))\n",
      "        )\n",
      "      )\n",
      "      (layer_blocks): ModuleList(\n",
      "        (0-3): 4 x Conv2dNormActivation(\n",
      "          (0): Conv2d(256, 256, kernel_size=(3, 3), stride=(1, 1), padding=(1, 1))\n",
      "        )\n",
      "      )\n",
      "      (extra_blocks): LastLevelMaxPool()\n",
      "    )\n",
      "  )\n",
      "  (rpn): RegionProposalNetwork(\n",
      "    (anchor_generator): AnchorGenerator()\n",
      "    (head): RPNHead(\n",
      "      (conv): Conv2d(256, 256, kernel_size=(3, 3), stride=(1, 1), padding=(1, 1))\n",
      "      (cls_logits): Conv2d(256, 3, kernel_size=(1, 1), stride=(1, 1))\n",
      "      (bbox_pred): Conv2d(256, 12, kernel_size=(1, 1), stride=(1, 1))\n",
      "    )\n",
      "  )\n",
      "  (roi_heads): RoIHeads(\n",
      "    (box_roi_pool): MultiScaleRoIAlign(featmap_names=[0, 1, 2, 3], output_size=(7, 7), sampling_ratio=2)\n",
      "    (box_head): TwoMLPHead(\n",
      "      (fc6): Linear(in_features=12544, out_features=1024, bias=True)\n",
      "      (fc7): Linear(in_features=1024, out_features=1024, bias=True)\n",
      "    )\n",
      "    (box_predictor): FastRCNNPredictor(\n",
      "      (cls_score): Linear(in_features=1024, out_features=5, bias=True)\n",
      "      (bbox_pred): Linear(in_features=1024, out_features=20, bias=True)\n",
      "    )\n",
      "  )\n",
      ")\n"
     ]
    }
   ],
   "source": [
    "model_ft = get_model_detection(num_classes)\n",
    "print(model_ft)\n",
    "# Send the model to GPU\n",
    "model_ft = model_ft.to(device)"
   ]
  },
  {
   "cell_type": "markdown",
   "metadata": {},
   "source": [
    "### Base de datos\n",
    "\n",
    "A continuación se describe la base de datos. Para simplificar su tratamiento posterior, la base de datos se proporciona en forma de imágenes (`images`) y máscaras para cada una de las instancias de objetos (`instances`): es decir, para cada imagen se tienen tantas máscaras como objetos existan en la misma, con la segmentación de cada uno de ellos. Asimismo, la categoría de cada objeto va codificada en el nombre de la imagen. Además se proporcionan la segmentación semántica `classes` y la segmentación de instancias `masks` por si resultan útiles.\n",
    "\n",
    "Mediante este formato realizar el proceso de *data augmentation* es más sencillo, ya que basta con aplicar las mismas transformaciones (traslaciones, rotaciones, etc.) a la imagen original y a la máscara y después extraer las _bounding boxes_ que engloban cada objeto (como hace el fragmento de código de abajo); en lugar de aplicar transformaciones coherentes a la imagen y las coordenadas de las *bounding boxes*.\n",
    "\n",
    "A continuación se define la clase que implementa la carga la base de datos. \n",
    "\n",
    "****IMPORTANTE**: las imágenes de entrada no se normalizan. El propio _framework_ realiza la normalización internamente con la media de ImageNet."
   ]
  },
  {
   "cell_type": "code",
   "execution_count": 7,
   "metadata": {
    "scrolled": false
   },
   "outputs": [],
   "source": [
    "class myVOCDataset(object):\n",
    "    def __init__(self, root, train, data_augm):\n",
    "        self.root = root\n",
    "        self.train = train\n",
    "        self.data_augm = data_augm\n",
    "        # load all image files, sorting them to\n",
    "        # ensure that they are aligned\n",
    "        if (self.train):\n",
    "            self.imgs = [os.path.join(root,name)\n",
    "                 for root, dirs, files in os.walk(root)\n",
    "                 for name in files if ('train'+os.path.sep+'images' in root)\n",
    "                 if name.lower().endswith(\".jpg\")]\n",
    "        else:\n",
    "            self.imgs = [os.path.join(root,name)\n",
    "                 for root, dirs, files in os.walk(root)\n",
    "                 for name in files if ('test'+os.path.sep+'images' in root)\n",
    "                 if name.lower().endswith(\".jpg\")]\n",
    "\n",
    "    def __getitem__(self, idx):\n",
    "        # load images ad masks\n",
    "        img_path = self.imgs[idx]\n",
    "        ImageFile.LOAD_TRUNCATED_IMAGES = True\n",
    "        img = Image.open(img_path).convert(\"RGB\")\n",
    "        \n",
    "        # Independent annotations for each object\n",
    "        file=self.imgs[idx].split(os.path.sep)[-1]\n",
    "        self.masks = [os.path.join(self.root,name)\n",
    "                        for self.root, dirs, files in os.walk(self.imgs[idx].replace('images','instances').replace(file,''))\n",
    "                        for name in files \n",
    "                        if (name.startswith(file[:-4]+'_'))]\n",
    "        if (not self.masks):\n",
    "            masks=np.array(Image.new('L', img.size))\n",
    "            labels=np.zeros((0,),dtype=np.int64)\n",
    "            num_objs=0\n",
    "        else:\n",
    "            mask=np.zeros((len(self.masks),img.size[1],img.size[0]),dtype=np.uint8)\n",
    "            labels=np.zeros((len(self.masks),),dtype=np.int64)\n",
    "            for j in range(len(self.masks)):\n",
    "                mask[j,:,:]=np.array(Image.open(self.masks[j]))\n",
    "                labels[j]=int(self.masks[j].split('_')[-1][:-4])\n",
    "            num_objs = len(mask)\n",
    "            masks=np.asarray(mask)\n",
    "            \n",
    "        if (self.train and self.data_augm):\n",
    "            # Implement your data augmentation\n",
    "            img = data_augmentation_pipeline(img)\n",
    "\n",
    "\n",
    "        boxes = []\n",
    "\n",
    "        for i in range(num_objs):\n",
    "            pos = np.where(masks[i])\n",
    "            xmin = np.min(pos[1])\n",
    "            xmax = np.max(pos[1])\n",
    "            ymin = np.min(pos[0])\n",
    "            ymax = np.max(pos[0])\n",
    "            # Get aspect ratio\n",
    "            W=xmax-xmin\n",
    "            H=ymax-ymin\n",
    "            if (W==0 or H==0):\n",
    "                labels=np.delete(labels,i)\n",
    "            else:\n",
    "                boxes.append([xmin, ymin, xmax, ymax])\n",
    "\n",
    "        # convert everything into a torch.Tensor\n",
    "        boxes = torch.as_tensor(boxes, dtype=torch.float32)\n",
    "        num_objs = boxes.size(0)\n",
    "        # get the labels\n",
    "        labels = torch.as_tensor(labels, dtype=torch.int64)\n",
    "        image_id = torch.tensor([idx])\n",
    "        # We need the area to filter the empty images\n",
    "        if (not boxes.size()==torch.Size([0])):\n",
    "            area = (boxes[:, 3] - boxes[:, 1]) * (boxes[:, 2] - boxes[:, 0])\n",
    "        else:\n",
    "            area = torch.tensor([0.])\n",
    "\n",
    "        target = {}\n",
    "        target[\"boxes\"] = boxes\n",
    "        target[\"labels\"] = labels\n",
    "        target[\"image_id\"] = image_id\n",
    "        target[\"area\"] = area\n",
    "\n",
    "        img=F.to_tensor(img)\n",
    "        return img, target, img_path\n",
    "\n",
    "    def __len__(self):\n",
    "        return len(self.imgs)"
   ]
  },
  {
   "cell_type": "markdown",
   "metadata": {},
   "source": [
    "Se carga la base de datos."
   ]
  },
  {
   "cell_type": "code",
   "execution_count": 8,
   "metadata": {},
   "outputs": [],
   "source": [
    "import utils\n",
    "\n",
    "# use our dataset and defined transformations\n",
    "dataset = myVOCDataset(data_dir, train=True, data_augm=False)\n",
    "dataset_test = myVOCDataset(data_dir, train=False, data_augm=False)\n",
    "\n",
    "# define training and test data loaders\n",
    "data_loader = torch.utils.data.DataLoader(\n",
    "    dataset, batch_size=batch_size, shuffle=True, num_workers=num_workers, # to debug, fix num_workers=0\n",
    "    collate_fn=utils.collate_fn)\n",
    "\n",
    "data_loader_test = torch.utils.data.DataLoader(\n",
    "    dataset_test, batch_size=batch_size, shuffle=False, num_workers=num_workers,\n",
    "    collate_fn=utils.collate_fn)"
   ]
  },
  {
   "cell_type": "markdown",
   "metadata": {},
   "source": [
    "### Medidas de evaluación\n",
    "\n",
    "Asimismo, se define la función que testea la bondad de nuestro modelo en términos de detección (precisión y recall) y términos de clasificación (de entre los objetos detectados, cuáles se clasifican correctamente de acuerdo a su categoría). \n",
    "La función recibe como parámetros:\n",
    "- __model__: la CNN que evaluar.\n",
    "- __dataloader__: el cargador de los datos de test.\n",
    "- __class_names__: nombres de las clases de objetos a detectar (siempre hay que incluir en primer lugar la clase *background*).\n",
    "- __th_score__: la red proporciona cada objeto detectado con una probabilidad entre 0 y 1. Este umbral descarta los objetos cuya probabilidad<th_score, es decir, es una decisión sobre el punto de operación del sistema. \n",
    "- __th_iou__: impone un umbral mínimo de IoU a partir del cual considerar una detección como correcta, es decir, es una decisión sobre la manera de evaluar el sistema.\n",
    "- __result_dir__: ruta al directorio de resultados.\n",
    "- __SAVE_OPT__: para guardar o no los resultados de test como imágenes con el *ground truth*, las *bounding boxes* predichas y los *anchors* correspondientes.\n",
    "- __SAVE_FULL__: para guardar los resultados totales sobre cada imagen (True) o guardarlos en carpetas diferentes para cada tamaño de *anchor* para su posterior análisis (False).\n",
    "- __VERBOSE__: imprime por pantalla las medidas de evaluación totales (sin tener en cuenta cada clase) si es False, o las totales y las marginales para cada clase si está a True.\n",
    "- __batchsize__: debe ser igual a 1.\n",
    "\n",
    "La función proporciona como salidas:\n",
    "- __precision_RPN__: la precisión para la detección de objetos de la RPN.\n",
    "- __recall_RPN__: el *recall* para la detección de objetos de la RPN.\n",
    "- __f1_score_RPN__: el F1 score para la detección, que tomamos como la medida principal del rendimiento del sistema. \n",
    "- __cm_global__: matriz de confusión entre clases para la clasificación.\n",
    "- __prec_rec_global__: precisión y *recall* para la clasificación en general.\n",
    "- __prec_rec_marginal__: precisión y *recall* para la clasificación de cada clase en particular. \n",
    "- __total_anchors__: todos los anchors de la red para el conjunto de test, para su posterior análisis. \n",
    "- __total_labels__: etiquetas de dichos *anchors*.\n",
    "\n",
    "__**IMPORTANTE:__ cabe destacar que la función de inferencia devuelve las medidas de evaluación tanto para la RPN (`precision_RPN`, `recall_RPN` y `f1_score_RPN`): es decir, estas medidas se refieren al *objectness* o capacidad de detección de objetos de la red sin tener en cuenta su categoría; como para la clasificación final de la red (`cm_global`, `prec_rec_global` y `prec_rec_marginal`): estas medidas se refieren a cómo de eficiente es la red clasificando las salidas de la RPN en función de su categoría."
   ]
  },
  {
   "cell_type": "code",
   "execution_count": 9,
   "metadata": {},
   "outputs": [],
   "source": [
    "from sklearn.metrics import precision_recall_fscore_support, confusion_matrix, ConfusionMatrixDisplay, average_precision_score\n",
    "from sklearn.preprocessing import LabelBinarizer\n",
    "\n",
    "# Auxiliary function to compute the intersection over union between 2 bounding boxes\n",
    "from external import bb_intersection_over_union\n",
    "\n",
    "def test_detection_model(model, dataloader, class_names, th_score, th_iou, result_dir, SAVE_OPT, SAVE_FULL, VERBOSE, batch_size=1):\n",
    "    since = time.time()\n",
    "    # Standard values for anchors and image size\n",
    "    bins=[48,96,192,384]\n",
    "    size_anchors=[32,64,128,256,512]\n",
    "    min_size = 800\n",
    "    max_size = 1333\n",
    "    model.eval()   # Set model to evaluate mode\n",
    "\n",
    "    # Detection measurements\n",
    "    ret = 0\n",
    "    rel = np.zeros((len(class_names)-1,),dtype=int)\n",
    "    ret_rel = np.zeros((len(class_names)-1),dtype=int)\n",
    "    \n",
    "    # Classification measurements\n",
    "    y_true=np.zeros((0,),dtype='int')\n",
    "    y_pred=np.zeros((0,),dtype='int')\n",
    "    y_score=np.zeros((0,),dtype='int')\n",
    "    batch_counter = 0\n",
    "    total_anchors=np.zeros((0,4),dtype='float32')\n",
    "    total_labels=np.zeros((0,),dtype=int)\n",
    "    print('Evaluating...')\n",
    "    with torch.no_grad():\n",
    "        # Iterate over data.\n",
    "        for inputs, targets, paths in dataloader:\n",
    "            batch_counter = batch_counter + 1\n",
    "            inputs = list(image.to(device) for image in inputs)\n",
    "            labels = [{k: v.to(device) for k, v in t.items()} for t in targets]\n",
    "            # Scale factor (useful for anchor extraction)\n",
    "            size_img=inputs[0].size()[1:]\n",
    "            scale_factor=min_size/min(size_img)\n",
    "            if max(size_img) * scale_factor > max_size:\n",
    "                scale_factor = max_size / max(size_img)\n",
    "            # Let's create the ground-truth boxes and labels\n",
    "            if (np.array(labels[0]['boxes'].cpu()).shape[0]==0):\n",
    "                gt_boxes=np.zeros((0,4),dtype='float32')\n",
    "            else:\n",
    "                gt_boxes=np.array(labels[0]['boxes'].detach().cpu())\n",
    "                gt_labels=np.array(labels[0]['labels'].detach().cpu())\n",
    "                # Relevant objects per class\n",
    "                for j in range(1,len(class_names)):\n",
    "                    rel[j-1]=rel[j-1]+np.sum(gt_labels==j)\n",
    "            # Prediction: returns boxes, scores (objectness), labels (class) and anchors\n",
    "            #print(device)\n",
    "            #print(next(model.parameters()).is_cuda)\n",
    "            pred = model(inputs)\n",
    "            pred[0]['scores']=pred[0]['scores'].detach().cpu()\n",
    "            pred[0]['boxes']=pred[0]['boxes'].detach().cpu()\n",
    "            pred[0]['labels']=pred[0]['labels'].detach().cpu()\n",
    "            pred[0]['anchors']=pred[0]['anchors'].detach().cpu()\n",
    "            # We use only those with scores>th_score and convert them to numpy arrays\n",
    "            if (len(pred[0]['scores'].numpy())==0):\n",
    "                pred_boxes=np.zeros((0,4),dtype='float32')\n",
    "                pred_labels=np.zeros((0,),dtype=int)\n",
    "            else:\n",
    "                pred_score = list(pred[0]['scores'].numpy())\n",
    "                if (pred_score[0]>th_score):\n",
    "                    pred_t = [pred_score.index(x) for x in pred_score if x>th_score][-1]\n",
    "                    pred_class = [class_names[i] for i in list(pred[0]['labels'].numpy())]\n",
    "                    pred_labels = pred[0]['labels'].numpy()\n",
    "                    pred_boxes = [[i[0], i[1], i[2], i[3]] for i in list(pred[0]['boxes'].numpy())]\n",
    "                    pred_boxes = np.array(pred_boxes[:pred_t+1])\n",
    "                    pred_anchors = [[i[0], i[1], i[2], i[3]] for i in list(pred[0]['anchors'].numpy())]\n",
    "                    pred_anchors = np.array(pred_anchors[:pred_t+1])\n",
    "                    total_anchors = np.concatenate((total_anchors,pred_anchors),axis=0)\n",
    "                    pred_class = pred_class[:pred_t+1]\n",
    "                    pred_labels = pred_labels[:pred_t+1]\n",
    "                    total_labels = np.concatenate((total_labels,pred_labels),axis=0)\n",
    "                else:\n",
    "                    pred_boxes=np.zeros((0,4),dtype='float32')\n",
    "                    pred_labels=np.zeros((0,),dtype=int)\n",
    "\n",
    "                    \n",
    "            # Retrieved objects \n",
    "            ret=ret+len(pred_labels)\n",
    "            \n",
    "            # Detection statistics: we compute the intersection over union between the ground-truth objects\n",
    "            # and the retrieved ones, if it exceed th_iou, the detection is considered as a good one\n",
    "            for j in range(gt_boxes.shape[0]):\n",
    "                ious=np.zeros((pred_boxes.shape[0],),dtype='float')\n",
    "                for k in range(pred_boxes.shape[0]):\n",
    "                    ious[k]=bb_intersection_over_union(gt_boxes[j,:],pred_boxes[k,:])\n",
    "                if (len(ious)>0):\n",
    "                    iou_max=np.max(ious)\n",
    "                    pos=np.argmax(ious)\n",
    "                    if (iou_max>th_iou):\n",
    "                        ret_rel[gt_labels[j]-1]+=1\n",
    "                        y_true=np.concatenate((y_true,gt_labels[j][np.newaxis]),axis=0)\n",
    "                        y_pred=np.concatenate((y_pred,pred_labels[pos][np.newaxis]),axis=0)\n",
    "\n",
    "            # Save the images with detections and ground-truth objects in a new folder, to analyze the results\n",
    "            if SAVE_OPT and SAVE_FULL:\n",
    "                aux=paths[0].split('/')\n",
    "                folder_path=os.path.join(result_dir,'instances_pred_full')\n",
    "                if not os.path.exists(folder_path):\n",
    "                    os.makedirs(folder_path)\n",
    "                img=np.array(F.to_pil_image(inputs[0].cpu()))\n",
    "                for i in range(pred_boxes.shape[0]):\n",
    "                    cv2.rectangle(img, (int(pred_boxes[i][0]),int(pred_boxes[i][1])), (int(pred_boxes[i][2]),int(pred_boxes[i][3])),color=(255, 0, 0), thickness=1)\n",
    "                    cv2.putText(img,pred_class[i], (int(pred_boxes[i][0]),int(pred_boxes[i][1])), cv2.FONT_HERSHEY_SIMPLEX, 1, (255,255,255),thickness=1)\n",
    "                for i in range(gt_boxes.shape[0]):\n",
    "                    cv2.rectangle(img, (int(gt_boxes[i][0]),int(gt_boxes[i][1])), (int(gt_boxes[i][2]),int(gt_boxes[i][3])),color=(0, 255, 0), thickness=1)\n",
    "                    cv2.putText(img,class_names[gt_labels[i]], (int(gt_boxes[i][0]),int(gt_boxes[i][1])), cv2.FONT_HERSHEY_SIMPLEX, 1, (255,255,255),thickness=1)\n",
    "                pred_path=folder_path+'/'+aux[-1]\n",
    "                cv2.imwrite(pred_path,cv2.cvtColor(img, cv2.COLOR_RGB2BGR))\n",
    "            elif SAVE_OPT and not SAVE_FULL:\n",
    "                aux=paths[0].split('/')\n",
    "                folder_path=os.path.join(result_dir,'instances_pred')\n",
    "                if not os.path.exists(folder_path):\n",
    "                    os.makedirs(folder_path)\n",
    "                for i in range(pred_boxes.shape[0]):\n",
    "                    anchor_size=size_anchors[np.digitize(np.sqrt((pred_anchors[i,2]-pred_anchors[i,0])*(pred_anchors[i,3]-pred_anchors[i,1])),bins)]\n",
    "                    img=np.array(F.to_pil_image(inputs[0].cpu()))\n",
    "                    cv2.rectangle(img, (int(pred_boxes[i][0]),int(pred_boxes[i][1])), (int(pred_boxes[i][2]),int(pred_boxes[i][3])),color=(255, 0, 0), thickness=1)\n",
    "                    cv2.rectangle(img, (int(pred_anchors[i][0]/scale_factor),int(pred_anchors[i][1]/scale_factor)), (int(pred_anchors[i][2]/scale_factor),int(pred_anchors[i][3]/scale_factor)), color=(0, 0, 255), thickness=1)\n",
    "                    cv2.putText(img,pred_class[i], (int(pred_boxes[i][0]),int(pred_boxes[i][1])), cv2.FONT_HERSHEY_SIMPLEX, 1, (255,255,255),thickness=1)\n",
    "                    for j in range(gt_boxes.shape[0]):\n",
    "                        cv2.rectangle(img, (int(gt_boxes[j][0]),int(gt_boxes[j][1])), (int(gt_boxes[j][2]),int(gt_boxes[j][3])),color=(0, 255, 0), thickness=1)\n",
    "                        cv2.putText(img,class_names[gt_labels[j]], (int(gt_boxes[j][0]),int(gt_boxes[j][1])), cv2.FONT_HERSHEY_SIMPLEX, 1, (255,255,255),thickness=1)\n",
    "                    if (not os.path.exists(os.path.join(folder_path,str(anchor_size)))):\n",
    "                        os.makedirs(os.path.join(folder_path,str(anchor_size)))\n",
    "                    pred_path=folder_path+'/'+str(anchor_size)+'/'+aux[-1][:-4]+'_'+str(i)+'.png'\n",
    "                    cv2.imwrite(pred_path,cv2.cvtColor(img, cv2.COLOR_RGB2BGR))\n",
    "            torch.cuda.empty_cache()\n",
    "\n",
    "    # Detection statistics: precision and recall per class\n",
    "    if (ret>0):\n",
    "        precision_RPN=np.sum(ret_rel)/ret\n",
    "    else:\n",
    "        precision_RPN=0\n",
    "    recall_RPN=np.zeros((rel.size,),dtype='float32')\n",
    "    for j in range(rel.size):\n",
    "        if (rel[j]>0):\n",
    "            recall_RPN[j]=ret_rel[j]/rel[j]\n",
    "        else:\n",
    "            recall_RPN[j]=0\n",
    "    # F1 score(weighted mean of precision and recall)\n",
    "    if (np.mean(recall_RPN)==0 or precision_RPN==0):\n",
    "        f1_score_RPN=0    \n",
    "    else:\n",
    "        f1_score_RPN=2*np.mean(recall_RPN)*precision_RPN/(np.mean(recall_RPN)+precision_RPN)\n",
    "    # Classification statistics: precision and recall\n",
    "    prec_rec_marginal=precision_recall_fscore_support(y_true, y_pred, average=None,labels=[f for f in range(1,len(class_names))],zero_division=0)\n",
    "    prec_rec_global=precision_recall_fscore_support(y_true, y_pred, average='macro',labels=[f for f in range(1,len(class_names))],zero_division=0)              \n",
    "    # Confusion matrix\n",
    "    cm_global=confusion_matrix(y_true, y_pred, labels=None, sample_weight=None, normalize=None)\n",
    "    time_elapsed = time.time() - since\n",
    "    print('Evaluation complete in {:.0f}m {:.0f}s'.format(time_elapsed // 60, time_elapsed % 60))\n",
    "    print('Objectness-RPN. F1: {:4f}.     Precision: {:4f}. Recall: {:4f}'.format(f1_score_RPN,precision_RPN,np.mean(recall_RPN)))\n",
    "    if (VERBOSE):\n",
    "        for i in range(1,len(class_names)):\n",
    "            print('Class: ' + class_names[i]+'. Recall: {:1d}/{:1d}'.format(ret_rel[i-1],rel[i-1]))\n",
    "        print('')\n",
    "    if ((prec_rec_global[0]+prec_rec_global[1])>0):\n",
    "        f1_class=2*prec_rec_global[0]*prec_rec_global[1]/(prec_rec_global[0]+prec_rec_global[1])\n",
    "    else:\n",
    "        f1_class=0\n",
    "    print('Global classification: F1: {:4f}.     Precision: {:4f}. Recall: {:4f}'.format(f1_class,prec_rec_global[0],prec_rec_global[1]))\n",
    "    if (VERBOSE):\n",
    "        for i in range(1,len(class_names)):\n",
    "            if ((prec_rec_marginal[0][i-1]+prec_rec_marginal[1][i-1])>0):\n",
    "                f1_class=2*prec_rec_marginal[0][i-1]*prec_rec_marginal[1][i-1]/(prec_rec_marginal[0][i-1]+prec_rec_marginal[1][i-1])\n",
    "            else:\n",
    "                f1_class=0\n",
    "            print('Class: ' + class_names[i]+'. F1: {:4f}.     Precision: {:4f}. Recall: {:4f}'.format(f1_class,prec_rec_marginal[0][i-1],prec_rec_marginal[1][i-1]))\n",
    "    return (precision_RPN,recall_RPN,f1_score_RPN,cm_global,prec_rec_global,prec_rec_marginal,total_anchors,total_labels)"
   ]
  },
  {
   "cell_type": "markdown",
   "metadata": {},
   "source": [
    "### Entrenamiento\n",
    "\n",
    "El entrenamiento de la red se realiza durante 24 epochs, reduciendo la tasa de entrenamiento a medida que se avanza en el entrenamiento. El código produce un archivo denominado _log.csv_ donde se puede analizar la variación de las funciones de pérdida en cada _epoch_ de entrenamiento, así como la correspondiente precisión y recall en el conjunto de test tanto para detección como para clasificación. Compruebe que las funciones de pérdida disminuyen  de manera aproximadamente monótona, y que las medidas de evaluación en test se estancan a medida que avanza el entrenamiento (y son más ruidosas).\n",
    "\n",
    "__**IMPORTANTE:__ se considera el mejor _epoch_ de la red como aquel que proporciona la mejor medida F1-score (media armónica de la precisión y el *recall*) y se almacenan sus pesos. "
   ]
  },
  {
   "cell_type": "code",
   "execution_count": 10,
   "metadata": {},
   "outputs": [
    {
     "name": "stdout",
     "output_type": "stream",
     "text": [
      "=> loading checkpoint '0'\n"
     ]
    },
    {
     "name": "stdout",
     "output_type": "stream",
     "text": [
      "=> loaded checkpoint '0'\n",
      "=> loading checkpoint '1'\n",
      "=> loaded checkpoint '1'\n"
     ]
    }
   ],
   "source": [
    "import csv\n",
    "from engine import train_one_epoch, eval_one_epoch\n",
    "import time\n",
    "\n",
    "# We create the baseline folder\n",
    "result_dir='baseline_results'\n",
    "if not os.path.exists(result_dir):\n",
    "    os.makedirs(result_dir)\n",
    "\n",
    "# Weights for L_objectness, L_reg, L_cls y L_reg2 \n",
    "weights=[1,1,1,1]\n",
    "\n",
    "# Training\n",
    "# construct an optimizer\n",
    "params = [p for p in model_ft.parameters() if p.requires_grad]\n",
    "optimizer = torch.optim.SGD(params, lr=lr,\n",
    "                                momentum=0.9, weight_decay=0.0005)\n",
    "# and a learning rate scheduler\n",
    "lr_scheduler = torch.optim.lr_scheduler.StepLR(optimizer,\n",
    "                                                step_size=step_size,\n",
    "                                                gamma=0.1)\n",
    "\n",
    "# CSV file for training results\n",
    "if os.path.exists(os.path.join(result_dir,'log.csv')):\n",
    "    os.remove(os.path.join(result_dir,'log.csv'))\n",
    "csv_file=open(os.path.join(os.path.join(result_dir,'log.csv')),'w')\n",
    "coord_writer = csv.writer(csv_file, delimiter=',', quotechar='\"', quoting=csv.QUOTE_MINIMAL)\n",
    "coord_writer.writerow(['Train total','Train rpn_box_reg','Train objectness','Train box_reg','Train classifier',\n",
    "                        'Val total','Val rpn_box_reg','Val objectness','Val box_reg','Val classifier'])\n",
    "best_f1=0\n",
    "for epoch in range(num_epochs):\n",
    "    if not os.path.exists(os.path.join(result_dir,'faster-rcnn-epoch{}.pth'.format(epoch))):\n",
    "        #     train for one epoch, printing every epoch \n",
    "        train_aux_losses=train_one_epoch(model_ft, optimizer, data_loader, device, weights, epoch, print_freq=250)\n",
    "        # Update the learning rate\n",
    "        lr_scheduler.step()\n",
    "        # Validation\n",
    "        val_aux_losses=eval_one_epoch(model_ft, data_loader_test, device, epoch, print_freq=250)\n",
    "        # Save the losses\n",
    "        coord_writer.writerow([str(train_aux_losses['total']),str(train_aux_losses['rpn_box_reg']),str(train_aux_losses['objectness']),\n",
    "                                str(train_aux_losses['box_reg']),str(train_aux_losses['classifier']),\n",
    "                                str(val_aux_losses['total']),str(val_aux_losses['rpn_box_reg']),str(val_aux_losses['objectness']),\n",
    "                                str(val_aux_losses['box_reg']),str(val_aux_losses['classifier'])])\n",
    "        # Evaluation\n",
    "        [precision,recall,f1_score,cm,total,partial,_,_]=test_detection_model(model_ft, data_loader_test, class_names, 0.5,0.5, result_dir, False, False, False)\n",
    "        # Save the state and the model with best AP-score for inference\n",
    "        state = {'epoch': epoch + 1, 'state_dict': model_ft.state_dict(),\n",
    "                  'optimizer': optimizer.state_dict(),\n",
    "                  'scheduler':lr_scheduler.state_dict(),}\n",
    "        torch.save(state, os.path.join(result_dir,'faster-rcnn-epoch{}.pth'.format(epoch)))\n",
    "        if (f1_score>best_f1):\n",
    "            torch.save(state, os.path.join(result_dir,'best_model.pth'.format(epoch)))\n",
    "            best_f1=f1_score\n",
    "    else:\n",
    "        # Load this epoch information to resume training\n",
    "        print(\"=> loading checkpoint '{}'\".format(epoch))\n",
    "        checkpoint = torch.load(os.path.join(result_dir,'faster-rcnn-epoch{}.pth'.format(epoch)))\n",
    "        lr_scheduler.load_state_dict(checkpoint['scheduler'])\n",
    "        model_ft.load_state_dict(checkpoint['state_dict'])\n",
    "        optimizer.load_state_dict(checkpoint['optimizer'])\n",
    "        print(\"=> loaded checkpoint '{}'\" .format(epoch))\n",
    "    \n",
    "csv_file.close()"
   ]
  },
  {
   "cell_type": "markdown",
   "metadata": {},
   "source": [
    "### Evaluación\n",
    "\n",
    "Tras entrenar la red, se van a obtener los resultados para el conjunto de test. En primer lugar, se cargan los pesos de la red entrenada en el modelo y se llama a la función de evaluación. Preste atención a los parámetros que recibe la función.\n",
    "\n",
    "Analice la información que devuelve la función. Note la diferencia entre las medidas de *objectness*, sobre la RPN; y las medidas finales de clasificación de objetos detectados del sistema."
   ]
  },
  {
   "cell_type": "code",
   "execution_count": 11,
   "metadata": {},
   "outputs": [
    {
     "name": "stdout",
     "output_type": "stream",
     "text": [
      "Evaluating...\n"
     ]
    },
    {
     "name": "stderr",
     "output_type": "stream",
     "text": [
      "/home/ubuntu/VA-PF/.venv/lib/python3.11/site-packages/torch/functional.py:507: UserWarning: torch.meshgrid: in an upcoming release, it will be required to pass the indexing argument. (Triggered internally at ../aten/src/ATen/native/TensorShape.cpp:3549.)\n",
      "  return _VF.meshgrid(tensors, **kwargs)  # type: ignore[attr-defined]\n"
     ]
    },
    {
     "name": "stdout",
     "output_type": "stream",
     "text": [
      "Evaluation complete in 0m 32s\n",
      "Objectness-RPN. F1: 0.444916.     Precision: 0.549550. Recall: 0.373754\n",
      "Class: bottle. Recall: 21/36\n",
      "Class: chair. Recall: 32/52\n",
      "Class: dining_table. Recall: 0/15\n",
      "Class: sofa. Recall: 8/27\n",
      "\n",
      "Global classification: F1: 0.639779.     Precision: 0.710526. Recall: 0.581845\n",
      "Class: bottle. F1: 0.975610.     Precision: 1.000000. Recall: 0.952381\n",
      "Class: chair. F1: 0.914286.     Precision: 0.842105. Recall: 1.000000\n",
      "Class: dining_table. F1: 0.000000.     Precision: 0.000000. Recall: 0.000000\n",
      "Class: sofa. F1: 0.545455.     Precision: 1.000000. Recall: 0.375000\n"
     ]
    }
   ],
   "source": [
    "# Inference\n",
    "model_weights = torch.load(os.path.join(result_dir,'best_model.pth'.format(num_epochs-1)))['state_dict']\n",
    "model_ft.load_state_dict(model_weights)\n",
    "_=test_detection_model(model_ft, data_loader_test, class_names, 0.5, 0.5, result_dir, True, False, True)"
   ]
  },
  {
   "cell_type": "markdown",
   "metadata": {},
   "source": [
    "## Parte 3. Experimentos."
   ]
  },
  {
   "cell_type": "markdown",
   "metadata": {},
   "source": [
    "### 1. Influencia de los umbrales en la inferencia.\n",
    "\n",
    "#### Elección del punto de operación del sistema\n",
    "\n",
    "Analice la influencia del umbral `th_score` sobre los resultados en inferencia del modelo con las medidas de detección y clasificación globales; marginales para cada clase (ponga `VERBOSE` a `True` si así lo desea); y visualmente si lo desea (ponga `SAVE_OPT` a `True`). Para ello, varíe el umbral entre 0.3, 0.5 y 0.7."
   ]
  },
  {
   "cell_type": "code",
   "execution_count": 12,
   "metadata": {},
   "outputs": [
    {
     "name": "stdout",
     "output_type": "stream",
     "text": [
      "TH_SCORE=0.3\n",
      "Evaluating...\n",
      "Evaluation complete in 0m 32s\n",
      "Objectness-RPN. F1: 0.464851.     Precision: 0.364706. Recall: 0.640812\n",
      "Global classification: F1: 0.610169.     Precision: 0.666667. Recall: 0.562500\n",
      "\n",
      "TH_SCORE=0.5\n",
      "Evaluating...\n",
      "Evaluation complete in 0m 31s\n",
      "Objectness-RPN. F1: 0.444916.     Precision: 0.549550. Recall: 0.373754\n",
      "Global classification: F1: 0.639779.     Precision: 0.710526. Recall: 0.581845\n",
      "\n",
      "TH_SCORE=0.7\n",
      "Evaluating...\n",
      "Evaluation complete in 0m 33s\n",
      "Objectness-RPN. F1: 0.286855.     Precision: 0.711111. Recall: 0.179665\n",
      "Global classification: F1: 0.494253.     Precision: 0.488636. Recall: 0.500000\n"
     ]
    }
   ],
   "source": [
    "# Include your code here\n",
    "print('TH_SCORE=0.3')\n",
    "_=test_detection_model(model_ft, data_loader_test, class_names, 0.3, 0.5, result_dir, False, False, False)\n",
    "print('\\nTH_SCORE=0.5')\n",
    "_=test_detection_model(model_ft, data_loader_test, class_names, 0.5, 0.5, result_dir, False, False, False)\n",
    "print('\\nTH_SCORE=0.7')\n",
    "_=test_detection_model(model_ft, data_loader_test, class_names, 0.7, 0.5, result_dir, False, False, False)"
   ]
  },
  {
   "cell_type": "markdown",
   "metadata": {},
   "source": [
    "#### Elección del punto de operación del sistema\n",
    "\n",
    "Analice la influencia del umbral `th_iou` sobre los resultados en inferencia del modelo, con las medidas de detección y clasificación globales; marginales para cada clase (ponga `VERBOSE` a `True` si así lo desea); y visualmente si lo desea (ponga `SAVE_OPT` a `True`). Para ello, varíe el umbral entre 0.3, 0.5 y 0.7."
   ]
  },
  {
   "cell_type": "code",
   "execution_count": 13,
   "metadata": {},
   "outputs": [
    {
     "name": "stdout",
     "output_type": "stream",
     "text": [
      "TH_IOU=0.3\n",
      "Evaluating...\n",
      "Evaluation complete in 0m 28s\n",
      "Objectness-RPN. F1: 0.518858.     Precision: 0.630631. Recall: 0.440741\n",
      "Global classification: F1: 0.638528.     Precision: 0.707447. Recall: 0.581845\n",
      "\n",
      "TH_IOU=0.5\n",
      "Evaluating...\n",
      "Evaluation complete in 0m 26s\n",
      "Objectness-RPN. F1: 0.444916.     Precision: 0.549550. Recall: 0.373754\n",
      "Global classification: F1: 0.639779.     Precision: 0.710526. Recall: 0.581845\n",
      "\n",
      "TH_IOU=0.7\n",
      "Evaluating...\n",
      "Evaluation complete in 0m 26s\n",
      "Objectness-RPN. F1: 0.299319.     Precision: 0.369369. Recall: 0.251603\n",
      "Global classification: F1: 0.641089.     Precision: 0.711538. Recall: 0.583333\n"
     ]
    }
   ],
   "source": [
    "# Include your code here\n",
    "print('TH_IOU=0.3')\n",
    "_=test_detection_model(model_ft, data_loader_test, class_names, 0.5, 0.3, result_dir, False, False, False)\n",
    "print('\\nTH_IOU=0.5')\n",
    "_=test_detection_model(model_ft, data_loader_test, class_names, 0.5, 0.5, result_dir, False, False, False)\n",
    "print('\\nTH_IOU=0.7')\n",
    "_=test_detection_model(model_ft, data_loader_test, class_names, 0.5, 0.7, result_dir, False, False, False)"
   ]
  },
  {
   "cell_type": "markdown",
   "metadata": {},
   "source": [
    "### 2. Análisis del tamaño de los _anchors_ .\n",
    "\n",
    "Las imágenes de la base de datos PASCAL VOC tienen un tamaño máximo de 500 píxeles en su lado mayor y un lado menor de tamaño variable, y por tanto, distintas relaciones de aspecto. Hay que tener en cuenta que Pytorch escala las imágenes para que su lado mínimo mida 800 píxeles o su lado máximo 1333 (véase la función __resize__ de __torchvision_05.models.detection.transform__). En primer lugar, se calcula la distribución de tamaño y relaciones de aspecto de los objetos de la base de datos en entrenamiento y test."
   ]
  },
  {
   "cell_type": "code",
   "execution_count": 14,
   "metadata": {},
   "outputs": [
    {
     "data": {
      "image/png": "[encoded data removed]",
      "text/plain": [
       "<Figure size 1500x1500 with 4 Axes>"
      ]
     },
     "metadata": {},
     "output_type": "display_data"
    }
   ],
   "source": [
    "# Include your code here\n",
    "import matplotlib.pyplot as plt\n",
    "from external import get_gt_anchors\n",
    "# define training and test data loaders\n",
    "data_loader_0 = torch.utils.data.DataLoader(\n",
    "    dataset, batch_size=batch_size, shuffle=True, num_workers=0,\n",
    "    collate_fn=utils.collate_fn)\n",
    "\n",
    "data_loader_test_0 = torch.utils.data.DataLoader(\n",
    "    dataset_test, batch_size=batch_size, shuffle=False, num_workers=0,\n",
    "    collate_fn=utils.collate_fn)\n",
    "\n",
    "# TRAIN\n",
    "ar, labels, size_anchors=get_gt_anchors(data_loader_0)\n",
    "fig, axes = plt.subplots(nrows=2, ncols=2,figsize=(15,15))\n",
    "ax0, ax1, ax2, ax3 = axes.flatten()\n",
    "ax0.hist([ar[np.where(labels==1)[0]],ar[np.where(labels==2)[0]],ar[np.where(labels==3)[0]],ar[np.where(labels==4)[0]]],color=['blue','orange','green','purple'],label=class_names[1:])\n",
    "ax0.legend(prop={'size': 10})\n",
    "ax0.set_title('Aspect ratio, train')\n",
    "ax1.hist([size_anchors[np.where(labels==1)[0]],size_anchors[np.where(labels==2)[0]],size_anchors[np.where(labels==3)[0]],size_anchors[np.where(labels==4)[0]]],color=['blue','orange','green','purple'],label=class_names[1:])\n",
    "ax1.legend(prop={'size': 10})\n",
    "ax1.set_title('Box size, train')\n",
    "\n",
    "# TEST\n",
    "ar, labels, size_anchors=get_gt_anchors(data_loader_test_0)\n",
    "ax2.hist([ar[np.where(labels==1)[0]],ar[np.where(labels==2)[0]],ar[np.where(labels==3)[0]],ar[np.where(labels==4)[0]]],color=['blue','orange','green','purple'],label=class_names[1:])\n",
    "ax2.legend(prop={'size': 10})\n",
    "ax2.set_title('Aspect ratio, test')\n",
    "ax3.hist([size_anchors[np.where(labels==1)[0]],size_anchors[np.where(labels==2)[0]],size_anchors[np.where(labels==3)[0]],size_anchors[np.where(labels==4)[0]]],color=['blue','orange','green','purple'],label=class_names[1:])\n",
    "ax3.legend(prop={'size': 10})\n",
    "ax3.set_title('Box size, test')\n",
    "fig.tight_layout()\n",
    "plt.show()"
   ]
  },
  {
   "cell_type": "markdown",
   "metadata": {},
   "source": [
    "A continuación se van a analizar los _anchors_ que proporciona la red para cada objeto, para ver si la distribución corresponde a las descritas anteriormente."
   ]
  },
  {
   "cell_type": "code",
   "execution_count": 15,
   "metadata": {},
   "outputs": [
    {
     "name": "stdout",
     "output_type": "stream",
     "text": [
      "Evaluating...\n",
      "Evaluation complete in 0m 29s\n",
      "Objectness-RPN. F1: 0.444916.     Precision: 0.549550. Recall: 0.373754\n",
      "Global classification: F1: 0.639779.     Precision: 0.710526. Recall: 0.581845\n"
     ]
    },
    {
     "data": {
      "text/plain": [
       "Text(0.5, 1.0, 'Anchor size, train')"
      ]
     },
     "execution_count": 15,
     "metadata": {},
     "output_type": "execute_result"
    },
    {
     "data": {
      "image/png": "[encoded data removed]",
      "text/plain": [
       "<Figure size 1500x1500 with 2 Axes>"
      ]
     },
     "metadata": {},
     "output_type": "display_data"
    }
   ],
   "source": [
    "# Inference: extract the selected anchors\n",
    "model_weights = torch.load(os.path.join(result_dir,'best_model.pth'.format(num_epochs-1)))['state_dict']\n",
    "model_ft.load_state_dict(model_weights)\n",
    "[_,_,_,_,_,_,anchors,l_t]=test_detection_model(model_ft, data_loader_test, class_names, 0.5, 0.5, result_dir, False, False, False)\n",
    "\n",
    "# Anchor statistics\n",
    "ar=[]\n",
    "labels=[]\n",
    "size_anchors=[]\n",
    "for i in range(anchors.shape[0]):\n",
    "    labels.append(l_t[i])\n",
    "    size_anchors.append(np.sqrt((anchors[i,2]-anchors[i,0])*(anchors[i,3]-anchors[i,1])))\n",
    "    ar.append((anchors[i,2]-anchors[i,0])/(anchors[i,3]-anchors[i,1]))\n",
    "\n",
    "ar=np.array(ar)\n",
    "labels=np.array(labels)\n",
    "size_anchors=np.array(size_anchors)\n",
    "fig, axes = plt.subplots(nrows=1, ncols=2, figsize=(15,15))\n",
    "ax0, ax1 = axes.flatten()\n",
    "ax0.hist([ar[np.where(labels==1)[0]],ar[np.where(labels==2)[0]],ar[np.where(labels==3)[0]],ar[np.where(labels==4)[0]]],color=['blue','orange','green','purple'],label=class_names[1:])\n",
    "ax0.legend(prop={'size': 10})\n",
    "ax0.set_title('Aspect ratio, train')\n",
    "ax1.hist([size_anchors[np.where(labels==1)[0]],size_anchors[np.where(labels==2)[0]],size_anchors[np.where(labels==3)[0]],size_anchors[np.where(labels==4)[0]]],color=['blue','orange','green','purple'],label=class_names[1:])\n",
    "ax1.legend(prop={'size': 10})\n",
    "ax1.set_title('Anchor size, train')"
   ]
  },
  {
   "cell_type": "markdown",
   "metadata": {},
   "source": [
    "- ¿La distribución de los _anchors_ se corresponde con la distribución de las *bounding boxes* en entrenamiento y test?\n",
    "\n",
    "- A la vista de los resultados, ¿por qué cree que la librería cambia el tamaño de las imágenes a la entrada de la red?\n",
    "\n",
    "#### Tenga en cuenta que la regresión se mueve en el hueco entre dos escalas consecutivas (doble de tamaño). \n",
    "\n",
    "- Analice las salidas visuales de la red, los _anchors_ y la regresión. ¿Es la regresión buena en todos los casos? ¿En qué tipo de objetos es más útil, más grandes o más pequeños? ¿Por qué?\n"
   ]
  },
  {
   "cell_type": "markdown",
   "metadata": {},
   "source": [
    "### 3. _RoI pooling_ y clasificación.\n",
    "\n",
    "En este apartado, se va a obtener una representación visual de las salidas del *RoI pooling* para las distintas clases (a partir de la función externa `visualize_roipooling`), y se van a analizar los resultados de clasificación.\n",
    "\n",
    "En la siguiente celda de código se extraen representaciones visuales del *RoI pooling* para cada objeto detectado en la carpeta`roipool`, dentro de la carpeta de resultados. El *RoI pooling* proporciona como salida un mapa de características $F_r$ de tamaño $HxWxC=7x7x2048$. Cada representación, por su parte, corresponde a una celda de 7x7 en la que se representan el valor máximo de este mapa $F_r$ sobre todos los canales (es decir, cada elemento contiene el valor máximo de todos los canales para cada celda). De este modo se puede inferir la distribución espacial de las activaciones en el *RoI pooling*.  Ejecute la siguiente celda y analice las representaciones de salida.\n",
    "\n",
    "__**IMPORTANTE__: no se utiliza la media para extraer las representaciones (*a priori* puede parecer mejor) ya que en las redes convolucionales la mayoría de los valores de los canales en cierta posición suelen ser muy bajos, y esto hace que los valores medios sean muy similares.\n",
    "\n",
    "__**IMPORTANTE:__ la función `visualize_roipooling` hace uso de los *hook* de Pytorch, que se utilizarán en el siguiente apartado. Los *hook* de Pytorch son una serie de funciones que permiten modificar los datos de entrada o salida de alguna capa de la red durante la ejecución de la red. Esto permite tener acceso a datos intermedios de la red en tiempo de ejecución, así como realizar un *debug* controlado de la red neuronal. En concreto se usa un *register_forward_hook()*, se ejecuta tras el método *forward* de cualquier capa de la red y tiene acceso a sus entradas y salidas. "
   ]
  },
  {
   "cell_type": "code",
   "execution_count": 16,
   "metadata": {},
   "outputs": [
    {
     "name": "stdout",
     "output_type": "stream",
     "text": [
      "Evaluating...\n",
      "Evaluating...\n",
      "Evaluation complete in 0m 33s\n",
      "Objectness-RPN. F1: 0.444916.     Precision: 0.549550. Recall: 0.373754\n",
      "Class: bottle. Recall: 21/36\n",
      "Class: chair. Recall: 32/52\n",
      "Class: dining_table. Recall: 0/15\n",
      "Class: sofa. Recall: 8/27\n",
      "\n",
      "Global classification: F1: 0.639779.     Precision: 0.710526. Recall: 0.581845\n",
      "Class: bottle. F1: 0.975610.     Precision: 1.000000. Recall: 0.952381\n",
      "Class: chair. F1: 0.914286.     Precision: 0.842105. Recall: 1.000000\n",
      "Class: dining_table. F1: 0.000000.     Precision: 0.000000. Recall: 0.000000\n",
      "Class: sofa. F1: 0.545455.     Precision: 1.000000. Recall: 0.375000\n"
     ]
    },
    {
     "data": {
      "text/plain": [
       "<sklearn.metrics._plot.confusion_matrix.ConfusionMatrixDisplay at 0x7f8cf4625990>"
      ]
     },
     "execution_count": 16,
     "metadata": {},
     "output_type": "execute_result"
    },
    {
     "data": {
      "image/png": "[encoded data removed]",
      "text/plain": [
       "<Figure size 640x480 with 2 Axes>"
      ]
     },
     "metadata": {},
     "output_type": "display_data"
    }
   ],
   "source": [
    "from external import visualize_roipooling\n",
    "\n",
    "# For the roi-pooling experiment, analyze the top bounding-boxes (th_score>0.7) and only those with \n",
    "# th_iou>0.7 with the ground-truth\n",
    "visualize_roipooling(model_ft, data_loader_test, device, class_names, 0.7, 0.7, result_dir, True)\n",
    "# For the confusion matrix, experiment with the standard thresholds\n",
    "[precision,recall,ap_score,cm,_,_,_,_]=test_detection_model(model_ft, data_loader_test, class_names, 0.5, 0.5, result_dir, True, False, True)\n",
    "dconf=ConfusionMatrixDisplay(cm)\n",
    "dconf=ConfusionMatrixDisplay(cm,display_labels=class_names[1:])\n",
    "dconf.plot()\n"
   ]
  },
  {
   "cell_type": "markdown",
   "metadata": {},
   "source": [
    "- Céntrese en el caso de los objetos que aparecen al completo. ¿Se puede inferir la clase del objeto de la distribución espacial del *RoI pooling*, independientemente de su escala? Muestre algún ejemplo. Justifique la utilidad del *RoI pooling*. \n",
    "\n",
    "- Analice la matriz de confusión. ¿Qué clases es más sencillo confundir entre sí? ¿Por qué?\n"
   ]
  },
  {
   "cell_type": "markdown",
   "metadata": {},
   "source": [
    "### 4. Funciones de pérdida.\n",
    "\n",
    "Analice qué ocurre cuando se actúa sobre las funciones de pérdida en la red. Para ello, realice los siguientes experimentos:\n",
    "\n",
    "- Elimine la regresión de *bounding boxes* de la red. Para ello se ponen las salidas de la regresión a 0 (vea cómo se realiza esto a partir de los *hooks*) y se anulan las losses de regresión (con el parámetro `weights`). Esto es más sencillo que modificar la arquitectura de red y el código para eliminar dichas capas. Analice las salidas visuales y los resultados."
   ]
  },
  {
   "cell_type": "code",
   "execution_count": 17,
   "metadata": {},
   "outputs": [
    {
     "name": "stdout",
     "output_type": "stream",
     "text": [
      "(TRAIN) Epoch: [0]  [233/234]  eta: 0:00:01  lr: 0.001000  loss: 0.3875 (1.2689)  loss_classifier: 0.0097 (0.2174)  loss_box_reg: 0.0000 (0.0566)  loss_objectness: 0.1958 (0.9865)  loss_rpn_box_reg: 0.0000 (0.0083)  time: 0.9293  data: 0.0035  max mem: 2476\n",
      "(TRAIN) Epoch: [0] Total time: 0:04:13 (1.0831 s / it)\n",
      "(VAL) Epoch: [0]  [67/68]  eta: 0:00:00  loss: 0.9842 (0.8796)  loss_classifier: 0.0688 (0.0842)  loss_box_reg: 0.0325 (0.0648)  loss_objectness: 0.4255 (0.7181)  loss_rpn_box_reg: 0.0040 (0.0125)  time: 0.3384  data: 0.0036  max mem: 2476\n",
      "(VAL) Epoch: [0] Total time: 0:00:23 (0.3446 s / it)\n",
      "Evaluating...\n",
      "Evaluation complete in 0m 26s\n",
      "Objectness-RPN. F1: 0.054496.     Precision: 0.625000. Recall: 0.028490\n",
      "Global classification: F1: 0.222222.     Precision: 0.200000. Recall: 0.250000\n",
      "(TRAIN) Epoch: [1]  [233/234]  eta: 0:00:01  lr: 0.001000  loss: 0.1532 (0.4152)  loss_classifier: 0.0153 (0.0618)  loss_box_reg: 0.0000 (0.0546)  loss_objectness: 0.0771 (0.2910)  loss_rpn_box_reg: 0.0020 (0.0078)  time: 1.2983  data: 0.0041  max mem: 2497\n",
      "(TRAIN) Epoch: [1] Total time: 0:04:30 (1.1548 s / it)\n",
      "(VAL) Epoch: [1]  [67/68]  eta: 0:00:00  loss: 0.2741 (0.4763)  loss_classifier: 0.0471 (0.0943)  loss_box_reg: 0.0319 (0.0960)  loss_objectness: 0.1285 (0.2706)  loss_rpn_box_reg: 0.0036 (0.0155)  time: 0.3410  data: 0.0043  max mem: 2497\n",
      "(VAL) Epoch: [1] Total time: 0:00:23 (0.3514 s / it)\n",
      "Evaluating...\n",
      "Evaluation complete in 0m 28s\n",
      "Objectness-RPN. F1: 0.360481.     Precision: 0.540541. Recall: 0.270406\n",
      "Global classification: F1: 0.581862.     Precision: 0.659091. Recall: 0.520833\n"
     ]
    }
   ],
   "source": [
    "def zero_features_hook(self, input, output):\n",
    "    output=torch.zeros_like(output)\n",
    "    return output\n",
    "\n",
    "def zero_features_tuple_hook(self, input, output):\n",
    "    output=(output[0],torch.zeros_like(output[1]))\n",
    "    return output\n",
    "\n",
    "def get_model_detection_no_bbox_regression(num_classes):\n",
    "    # load a Faster RCNN model pre-trained on COCO\n",
    "    model = torchvision_05.models.detection.fasterrcnn_resnet50_fpn(pretrained=True)\n",
    " \n",
    "    # get number of input features for the classifier\n",
    "    in_features = model.roi_heads.box_predictor.cls_score.in_features\n",
    "    # replace the pre-trained head with a new one\n",
    "    model.roi_heads.box_predictor = FastRCNNPredictor(in_features, num_classes) \n",
    "    # Regression outputs to 0\n",
    "    model.rpn.head.bbox_pred.register_forward_hook(zero_features_hook)\n",
    "    model.roi_heads.box_predictor.register_forward_hook(zero_features_tuple_hook)\n",
    "\n",
    "    return model\n",
    "\n",
    "model_ft = get_model_detection_no_bbox_regression(num_classes)\n",
    "# Send the model to GPU\n",
    "model_ft = model_ft.to(device)\n",
    "\n",
    "# We create the no_regression folder\n",
    "result_dir='no_regression'\n",
    "if not os.path.exists(result_dir):\n",
    "    os.makedirs(result_dir)\n",
    "\n",
    "# Weights for L_objectness, L_reg, L_cls y L_reg2 \n",
    "weights=[1,0,1,0]\n",
    "\n",
    "# Training\n",
    "# construct an optimizer\n",
    "params = [p for p in model_ft.parameters() if p.requires_grad]\n",
    "optimizer = torch.optim.SGD(params, lr=lr,\n",
    "                                momentum=0.9, weight_decay=0.0005)\n",
    "# and a learning rate scheduler\n",
    "lr_scheduler = torch.optim.lr_scheduler.StepLR(optimizer,\n",
    "                                                step_size=step_size,\n",
    "                                                gamma=0.1)\n",
    "\n",
    "# CSV file for training results\n",
    "if os.path.exists(os.path.join(result_dir,'log.csv')):\n",
    "    os.remove(os.path.join(result_dir,'log.csv'))\n",
    "csv_file=open(os.path.join(os.path.join(result_dir,'log.csv')),'w')\n",
    "coord_writer = csv.writer(csv_file, delimiter=',', quotechar='\"', quoting=csv.QUOTE_MINIMAL)\n",
    "coord_writer.writerow(['Train total','Train rpn_box_reg','Train objectness','Train box_reg','Train classifier',\n",
    "                        'Val total','Val rpn_box_reg','Val objectness','Val box_reg','Val classifier'])\n",
    "best_f1=0\n",
    "for epoch in range(num_epochs):\n",
    "    if not os.path.exists(os.path.join(result_dir,'faster-rcnn-epoch{}.pth'.format(epoch))):\n",
    "        #     train for one epoch, printing every epoch\n",
    "        train_aux_losses=train_one_epoch(model_ft, optimizer, data_loader, device, weights, epoch, print_freq=250)\n",
    "        # Update the learning rate\n",
    "        lr_scheduler.step()\n",
    "        # Validation\n",
    "        val_aux_losses=eval_one_epoch(model_ft, data_loader_test, device, epoch, print_freq=250)\n",
    "        # Update measurement file\n",
    "        coord_writer.writerow([str(train_aux_losses['total']),str(train_aux_losses['rpn_box_reg']),str(train_aux_losses['objectness']),\n",
    "                                str(train_aux_losses['box_reg']),str(train_aux_losses['classifier']),\n",
    "                                str(val_aux_losses['total']),str(val_aux_losses['rpn_box_reg']),str(val_aux_losses['objectness']),\n",
    "                                str(val_aux_losses['box_reg']),str(val_aux_losses['classifier'])])\n",
    "        # Evaluation\n",
    "        [precision,recall,f1_score,cm,total,partial,_,_]=test_detection_model(model_ft, data_loader_test, class_names, 0.5, 0.5, result_dir, False, False, False)\n",
    "        # Save the state and the model with best AP-score for inference\n",
    "        state = {'epoch': epoch + 1, 'state_dict': model_ft.state_dict(),\n",
    "                  'optimizer': optimizer.state_dict(),\n",
    "                  'scheduler':lr_scheduler.state_dict(), }\n",
    "        torch.save(state, os.path.join(result_dir,'faster-rcnn-epoch{}.pth'.format(epoch)))\n",
    "        if (f1_score>best_f1):\n",
    "            torch.save(state, os.path.join(result_dir,'best_model.pth'.format(epoch)))\n",
    "            best_f1=f1_score\n",
    "    else:\n",
    "        # Load this epoch information to resume training\n",
    "        print(\"=> loading checkpoint '{}'\".format(epoch))\n",
    "        checkpoint = torch.load(os.path.join(result_dir,'faster-rcnn-epoch{}.pth'.format(epoch)))\n",
    "        lr_scheduler.load_state_dict(checkpoint['scheduler'])\n",
    "        model_ft.load_state_dict(checkpoint['state_dict'])\n",
    "        optimizer.load_state_dict(checkpoint['optimizer'])\n",
    "        print(\"=> loaded checkpoint '{}'\" .format(epoch))\n",
    "    \n",
    "csv_file.close()"
   ]
  },
  {
   "cell_type": "code",
   "execution_count": 18,
   "metadata": {},
   "outputs": [
    {
     "name": "stdout",
     "output_type": "stream",
     "text": [
      "Evaluating...\n",
      "Evaluation complete in 0m 33s\n",
      "Objectness-RPN. F1: 0.360481.     Precision: 0.540541. Recall: 0.270406\n",
      "Class: bottle. Recall: 6/36\n",
      "Class: chair. Recall: 21/52\n",
      "Class: dining_table. Recall: 1/15\n",
      "Class: sofa. Recall: 12/27\n",
      "\n",
      "Global classification: F1: 0.581862.     Precision: 0.659091. Recall: 0.520833\n",
      "Class: bottle. F1: 1.000000.     Precision: 1.000000. Recall: 1.000000\n",
      "Class: chair. F1: 0.777778.     Precision: 0.636364. Recall: 1.000000\n",
      "Class: dining_table. F1: 0.000000.     Precision: 0.000000. Recall: 0.000000\n",
      "Class: sofa. F1: 0.153846.     Precision: 1.000000. Recall: 0.083333\n"
     ]
    }
   ],
   "source": [
    "# Inference\n",
    "model_weights = torch.load(os.path.join(result_dir,'best_model.pth'.format(num_epochs-1)))['state_dict']\n",
    "model_ft.load_state_dict(model_weights)\n",
    "_=test_detection_model(model_ft, data_loader_test, class_names, 0.5, 0.5, result_dir, True, False, True)"
   ]
  },
  {
   "cell_type": "markdown",
   "metadata": {},
   "source": [
    "#### En las salidas de la red se puede ver que ahora las *bounding boxes* predichas coinciden con los *anchors* (las pequeñas imprecisiones se deben al redondeo en la conversión entre los tamaños de imagen externa, ~500 píxeles, e interna ~800 píxeles."
   ]
  },
  {
   "cell_type": "markdown",
   "metadata": {},
   "source": [
    "- Asimismo, mediante el argumento `weights` de la función `train_one_epoch` puede introducir distintos pesos a las funciones de pérdida para dar más importancia a alguna parte de la red respecto a las demás. Puede realizar algún experimento y analizar qué ocurre."
   ]
  },
  {
   "cell_type": "code",
   "execution_count": 19,
   "metadata": {},
   "outputs": [],
   "source": [
    "# Include your code here\n",
    "# Weights for L_objectness, L_reg, L_cls y L_reg2 \n",
    "# weights=[1,1,1,1]"
   ]
  },
  {
   "cell_type": "markdown",
   "metadata": {},
   "source": [
    "### 5. Evaluación del trabajo autónomo del alumno.\n",
    "\n",
    "#### Criterios de evaluación\n",
    "\n",
    "De esta práctica (si elegida) surge la segunda evaluación para la asignatura. Una vez comprendidos los fundamentos de la detección automática de objetos con redes neuronales, puede realizar los experimentos que considere oportunos. Estos experimentos pueden ir dirigidos a:\n",
    "\n",
    "- Hacer más eficiente la selección de _anchors_.\n",
    "- Analizar los resultados y proporcionar estrategias de mejora sobre la arquitectura o el procedimiento de entrenamiento.\n",
    "- Aplicar estrategias de segmentación sobre este problema, o aplicar la detección a otro problema sobre el que tenga *bounding boxes*.\n",
    "\n",
    "#### Entregables\n",
    "\n",
    "- Presentación (Fecha indicada en la entrega del proyecto en Aula Global). Este día cada grupo de alumnos tendrá un turno de 10 minutos de preguntas (máximo 5 minutos de presentación) sobre el apartado de trabajo autónomo con ayuda de un máximo de 3 transparencias.\n",
    "- Informe + Código. Los alumnos entregarán un breve informe (2 caras para la descripción, 1 cara de referencias y figuras si fuese necesaria) donde describirán los aspectos más importantes de la solución propuesta. El objetivo es que el alumno describa los análisis y extensiones que ha planteado al modelo y justifique su objetivo y utilidad de manera breve. Asimismo, se proporcionará el código utilizado para los experimentos (bien sobre este mismo Notebook, en formato `.ipynb` o bien en código Python, en formato `.py`). \n",
    "\n",
    "La fecha límite de entrega del fichero de código y el informe es la fecha indicada en la entrega del proyecto en Aula Global.\n",
    "\n",
    "\n",
    "#### Sugerencias\n",
    "\n",
    "A continuación se proporcionan algunas sugerencias para que el alumno trabaje de manera autónoma, a título informativo. Si lo desea, puede centrarse en implementar una o varias de ellas.\n",
    "\n",
    "- Se puede trabajar desde el punto de vista de los _anchors_ o el tamaño de la imagen, haciéndolos más eficientes. Haga un _clustering_ de los tamaños y relaciones de aspecto de la base de datos y utilice dichos anchors.\n",
    "\n",
    "- De manera análoga a lo anterior, efectuando un procedimiento adecuado de _data augmentation_ se pueden ampliar el número de tamaños y relaciones de aspecto de la base de datos.\n",
    "\n",
    "- A partir de Faster-RCNN se desarrolló Mask-RCNN, una red que además de detectar los objetos propone una segmentación píxel a píxel de los mismos. Analice las contribuciones de la misma: *RoI align* y la rama de segmentación, y efectúe alguna prueba con la misma para esta tarea (existe una implementación disponible en Pytorch y el tutorial en el que está basado este: https://pytorch.org/tutorials/intermediate/torchvision_tutorial.html utiliza Mask-RCNN).\n",
    "- Se puede aplicar esta estrategia de detección a otro problema sobre el que tenga *bounding boxes*. El problema puede contar con una sola clase o ser multi-clase, y se valorará la adaptación de los procedimientos descritos a las características propias de dicha base de datos."
   ]
  },
  {
   "cell_type": "code",
   "execution_count": null,
   "metadata": {},
   "outputs": [],
   "source": [
    "# Include your code here\n"
   ]
  }
 ],
 "metadata": {
  "kernelspec": {
   "display_name": "Python 3",
   "language": "python",
   "name": "python3"
  },
  "language_info": {
   "codemirror_mode": {
    "name": "ipython",
    "version": 3
   },
   "file_extension": ".py",
   "mimetype": "text/x-python",
   "name": "python",
   "nbconvert_exporter": "python",
   "pygments_lexer": "ipython3",
   "version": "3.11.9"
  }
 },
 "nbformat": 4,
 "nbformat_minor": 2
}
